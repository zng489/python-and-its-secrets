{
 "cells": [
  {
   "cell_type": "code",
   "execution_count": null,
   "metadata": {},
   "outputs": [],
   "source": [
    "def human_being ():\n",
    "    if name == 'zhang' and race == 'chinese' and age == 30:\n",
    "        print('Yeah, you are zhang')\n",
    "        \n",
    "    elif name == 'zhang' and race == 'chinese' and age != 30:\n",
    "        print('Maybe, you are')\n",
    "    \n",
    "    elif name == 'zhang' and race !=  'chinese' and age != 30:\n",
    "        print('You definetly not zhang')\n",
    "    \n",
    "    else:\n",
    "        print('You are not')\n",
    "        \n",
    "    human_being()"
   ]
  },
  {
   "cell_type": "code",
   "execution_count": null,
   "metadata": {},
   "outputs": [],
   "source": [
    "human_being('zhang',\"chinese\", 20)"
   ]
  },
  {
   "cell_type": "code",
   "execution_count": null,
   "metadata": {},
   "outputs": [],
   "source": [
    "human_being('zhang',\"chinese\", 30)"
   ]
  },
  {
   "cell_type": "code",
   "execution_count": null,
   "metadata": {},
   "outputs": [],
   "source": [
    "human_being('zhang',\"polish\", 30)"
   ]
  },
  {
   "cell_type": "code",
   "execution_count": 10,
   "metadata": {},
   "outputs": [],
   "source": [
    "def human_being (name, race, age):\n",
    "    return name + race + age\n",
    "     \n",
    "        \n"
   ]
  },
  {
   "cell_type": "code",
   "execution_count": 11,
   "metadata": {},
   "outputs": [
    {
     "data": {
      "text/plain": [
       "30"
      ]
     },
     "execution_count": 11,
     "metadata": {},
     "output_type": "execute_result"
    }
   ],
   "source": [
    "human_being(10,10,10)"
   ]
  },
  {
   "cell_type": "code",
   "execution_count": 12,
   "metadata": {},
   "outputs": [
    {
     "ename": "SyntaxError",
     "evalue": "invalid syntax (<ipython-input-12-cd37358a28ec>, line 2)",
     "output_type": "error",
     "traceback": [
      "\u001b[1;36m  File \u001b[1;32m\"<ipython-input-12-cd37358a28ec>\"\u001b[1;36m, line \u001b[1;32m2\u001b[0m\n\u001b[1;33m    return name == 'zhang' and race == 'chinese' and age == 30:\u001b[0m\n\u001b[1;37m                                                              ^\u001b[0m\n\u001b[1;31mSyntaxError\u001b[0m\u001b[1;31m:\u001b[0m invalid syntax\n"
     ]
    }
   ],
   "source": []
  },
  {
   "cell_type": "code",
   "execution_count": null,
   "metadata": {},
   "outputs": [],
   "source": [
    "number_2 = input('Enter your second number: ')"
   ]
  },
  {
   "cell_type": "code",
   "execution_count": null,
   "metadata": {},
   "outputs": [],
   "source": [
    "number_1 = int ( input(\"Enter your first number: \" )"
   ]
  },
  {
   "cell_type": "code",
   "execution_count": null,
   "metadata": {},
   "outputs": [],
   "source": [
    "def human_being (name):\n",
    "    name = input(\"put here your name: \")\n",
    "    \n",
    "    if name == 'zhang':\n",
    "        print('Yeah, you are zhang')\n",
    "        \n",
    "    else:\n",
    "        print('You are not')\n",
    "\n",
    "    human_being(name)\n",
    "    \n",
    "# in the momento that you put (name), you are actually defining any value for name, because of that (no values)\n"
   ]
  },
  {
   "cell_type": "code",
   "execution_count": null,
   "metadata": {},
   "outputs": [],
   "source": [
    "def human_being ():\n",
    "    name = input(\"put here your name: \")\n",
    "    \n",
    "    if name == 'zhang':\n",
    "        print('Yeah, you are zhang')\n",
    "        \n",
    "    else:\n",
    "        print('You are not')\n",
    "\n",
    "human_being()"
   ]
  },
  {
   "cell_type": "code",
   "execution_count": null,
   "metadata": {},
   "outputs": [],
   "source": [
    "class being():\n",
    "    def __init__(self):\n",
    "        kind = input('Tell me where you kind: ')\n",
    "        planet = input('Which planet: ')\n",
    "        self.kind = kind\n",
    "        self.planet = planet\n",
    "        print('being')\n",
    "        \n",
    "being()"
   ]
  },
  {
   "cell_type": "code",
   "execution_count": null,
   "metadata": {},
   "outputs": [],
   "source": [
    "def features():\n",
    "    skin = input('Skin color: ')\n",
    "    race = input('your race: ')\n",
    "    age = input('age: ')\n",
    "    self.skin = skin\n",
    "    self.race = race\n",
    "    self.age = age\n",
    "    \n",
    "    print('features')\n",
    "\n",
    "features()"
   ]
  },
  {
   "cell_type": "code",
   "execution_count": null,
   "metadata": {},
   "outputs": [],
   "source": [
    "class being():\n",
    "    def __init__(self):\n",
    "        #kind = input('Tell me where you kind: ')\n",
    "        #planet = input('Which planet: ')\n",
    "        self.kind = kind\n",
    "        self.planet = planet\n",
    "        print('being')\n",
    "\n",
    "    def features(self):\n",
    "      #skin = input('Skin color: ')\n",
    "      #race = input('your race: ')\n",
    "      #age = input('age: ')\n",
    "      self.skin = skin\n",
    "      self.race = race\n",
    "      self.age = age\n",
    "      print('features')"
   ]
  },
  {
   "cell_type": "code",
   "execution_count": null,
   "metadata": {},
   "outputs": [],
   "source": [
    "zhang = being(input('Tell me where you kind: '), input('Which planet: '))"
   ]
  },
  {
   "cell_type": "code",
   "execution_count": null,
   "metadata": {},
   "outputs": [],
   "source": [
    "class being():\n",
    "    def __init__(self):\n",
    "        #kind = input('Tell me where you kind: ')\n",
    "        #planet = input('Which planet: ')\n",
    "        self.kind = kind\n",
    "        self.planet = planet\n",
    "        return ('being')\n",
    "\n",
    "    def features(self):\n",
    "      #skin = input('Skin color: ')\n",
    "      #race = input('your race: ')\n",
    "      #age = input('age: ')\n",
    "      self.skin = skin\n",
    "      self.race = race\n",
    "      self.age = age\n",
    "      print('features')\n",
    "\n",
    "      return\n",
    "\n",
    "zhang = being(input('Tell me where you kind: '), input('Which planet: '),input('Skin color: '), input('your race: '), input('age: '))"
   ]
  },
  {
   "cell_type": "code",
   "execution_count": null,
   "metadata": {},
   "outputs": [],
   "source": [
    "class carro():\n",
    "    def __init__(self,price,color):\n",
    "        self.price = price\n",
    "        self.color = color\n",
    "        self.gas = 0\n",
    "        print ('carro comprado')\n",
    "        \n",
    "    def cheio(self):\n",
    "        self.gas = 100\n",
    "        print ('carro cheio')\n",
    "        \n",
    "    def vazio(self):\n",
    "        self.gas = 0\n",
    "        print ('carro vazio')\n",
    "        \n",
    "    def deixado(self):\n",
    "        return self.gas\n",
    "    \n",
    "class truck(carro):\n",
    "    def __init__ (self,price,color,tires):\n",
    "        super().__init__(price,color)\n",
    "        self.tires = tires\n",
    "        print ('Truck')\n",
    "        \n",
    "    def beep(self):\n",
    "        print ('Beep')"
   ]
  },
  {
   "cell_type": "code",
   "execution_count": null,
   "metadata": {},
   "outputs": [],
   "source": []
  }
 ],
 "metadata": {
  "kernelspec": {
   "display_name": "Python 3",
   "language": "python",
   "name": "python3"
  },
  "language_info": {
   "codemirror_mode": {
    "name": "ipython",
    "version": 3
   },
   "file_extension": ".py",
   "mimetype": "text/x-python",
   "name": "python",
   "nbconvert_exporter": "python",
   "pygments_lexer": "ipython3",
   "version": "3.7.6"
  }
 },
 "nbformat": 4,
 "nbformat_minor": 2
}
