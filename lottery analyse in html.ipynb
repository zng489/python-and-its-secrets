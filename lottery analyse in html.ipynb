{
 "cells": [
  {
   "cell_type": "code",
   "execution_count": 1,
   "metadata": {},
   "outputs": [],
   "source": [
    "from IPython.core.display import HTML"
   ]
  },
  {
   "cell_type": "code",
   "execution_count": 2,
   "metadata": {},
   "outputs": [],
   "source": [
    "from IPython.display import HTML\n",
    "import pandas as pd\n",
    "import numpy as np"
   ]
  },
  {
   "cell_type": "code",
   "execution_count": 3,
   "metadata": {},
   "outputs": [],
   "source": [
    "#HTML(filename=\"E:\\Data Analysis\\Project Lottery\\D_lotfac.htm\")"
   ]
  },
  {
   "cell_type": "code",
   "execution_count": 4,
   "metadata": {},
   "outputs": [],
   "source": [
    "#df = pd.read_html('file:///C:/Users/Yuan/Desktop/d_lotfac.htm', delimiter='\\t')"
   ]
  },
  {
   "cell_type": "code",
   "execution_count": 10,
   "metadata": {},
   "outputs": [],
   "source": [
    "df = pd.read_html('file:///C:/Users/Yuan/Desktop/d_lotfac.htm')"
   ]
  },
  {
   "cell_type": "code",
   "execution_count": 12,
   "metadata": {},
   "outputs": [
    {
     "data": {
      "text/plain": [
       "list"
      ]
     },
     "execution_count": 12,
     "metadata": {},
     "output_type": "execute_result"
    }
   ],
   "source": [
    "type(df)"
   ]
  },
  {
   "cell_type": "code",
   "execution_count": 16,
   "metadata": {},
   "outputs": [],
   "source": [
    "df_array = np.array(df)"
   ]
  },
  {
   "cell_type": "code",
   "execution_count": 17,
   "metadata": {},
   "outputs": [
    {
     "data": {
      "text/plain": [
       "array([[[1, '29/09/2003', 18, ..., '000', '000', '000'],\n",
       "        [1, '29/09/2003', 18, ..., '000', '000', '000'],\n",
       "        [1, '29/09/2003', 18, ..., '000', '000', '000'],\n",
       "        ...,\n",
       "        [2035, '18/09/2020', 24, ..., '000', '1.200.00000',\n",
       "         '1.615.56467'],\n",
       "        [2035, '18/09/2020', 24, ..., '000', '1.200.00000',\n",
       "         '1.615.56467'],\n",
       "        [2036, '19/09/2020', 22, ..., '000', '1.500.00000',\n",
       "         '1.911.82379']]], dtype=object)"
      ]
     },
     "execution_count": 17,
     "metadata": {},
     "output_type": "execute_result"
    }
   ],
   "source": [
    "df_array"
   ]
  },
  {
   "cell_type": "code",
   "execution_count": 19,
   "metadata": {},
   "outputs": [
    {
     "data": {
      "text/plain": [
       "(1, 8327, 33)"
      ]
     },
     "execution_count": 19,
     "metadata": {},
     "output_type": "execute_result"
    }
   ],
   "source": [
    "df_array.shape"
   ]
  },
  {
   "cell_type": "code",
   "execution_count": 30,
   "metadata": {},
   "outputs": [
    {
     "data": {
      "text/html": [
       "<img src=\"https://www.w3resource.com/w3r_images/numpy-1d2d3d-array.png\" width=\"800\" height=\"800\"/>"
      ],
      "text/plain": [
       "<IPython.core.display.Image object>"
      ]
     },
     "execution_count": 30,
     "metadata": {},
     "output_type": "execute_result"
    }
   ],
   "source": [
    "from IPython.display import Image\n",
    "from IPython.core.display import HTML\n",
    "\n",
    "Image(url= \"https://www.w3resource.com/w3r_images/numpy-1d2d3d-array.png\", width=800, height=800)"
   ]
  },
  {
   "cell_type": "code",
   "execution_count": 21,
   "metadata": {},
   "outputs": [],
   "source": [
    "df_reshape = df_array.reshape(8327,33)"
   ]
  },
  {
   "cell_type": "code",
   "execution_count": 22,
   "metadata": {},
   "outputs": [
    {
     "data": {
      "text/plain": [
       "array([[1, '29/09/2003', 18, ..., '000', '000', '000'],\n",
       "       [1, '29/09/2003', 18, ..., '000', '000', '000'],\n",
       "       [1, '29/09/2003', 18, ..., '000', '000', '000'],\n",
       "       ...,\n",
       "       [2035, '18/09/2020', 24, ..., '000', '1.200.00000', '1.615.56467'],\n",
       "       [2035, '18/09/2020', 24, ..., '000', '1.200.00000', '1.615.56467'],\n",
       "       [2036, '19/09/2020', 22, ..., '000', '1.500.00000', '1.911.82379']],\n",
       "      dtype=object)"
      ]
     },
     "execution_count": 22,
     "metadata": {},
     "output_type": "execute_result"
    }
   ],
   "source": [
    "df_reshape"
   ]
  },
  {
   "cell_type": "code",
   "execution_count": 23,
   "metadata": {},
   "outputs": [
    {
     "data": {
      "text/plain": [
       "(8327, 33)"
      ]
     },
     "execution_count": 23,
     "metadata": {},
     "output_type": "execute_result"
    }
   ],
   "source": [
    "df_reshape.shape"
   ]
  },
  {
   "cell_type": "code",
   "execution_count": 25,
   "metadata": {},
   "outputs": [],
   "source": [
    "dat = pd.DataFrame(df_reshape, columns = [\"Var 1\", \"Var 2\", \"Var 3\", \"Var 4\", \"Var 5\", \"Var 6\",\"Var 7\", \"Var 8\", \"Var 9\", \"Var 10\", \"Var 11\", \"Var 12\",\"Var 13\", \"Var 14\", \"Var 15\", \"Var 16\", \"Var 17\", \"Var 18\",\"Var 19\", \"Var 20\", \"Var 21\", \"Var 22\", \"Var 23\", \"Var 24\",\"Var 25\", \"Var 26\", \"Var 27\", \"Var 28\", \"Var 29\", \"Var 30\",\"Var 31\",\"Var 32\",\"Var 33\"])"
   ]
  },
  {
   "cell_type": "code",
   "execution_count": 26,
   "metadata": {
    "scrolled": false
   },
   "outputs": [
    {
     "data": {
      "text/html": [
       "<div>\n",
       "<style scoped>\n",
       "    .dataframe tbody tr th:only-of-type {\n",
       "        vertical-align: middle;\n",
       "    }\n",
       "\n",
       "    .dataframe tbody tr th {\n",
       "        vertical-align: top;\n",
       "    }\n",
       "\n",
       "    .dataframe thead th {\n",
       "        text-align: right;\n",
       "    }\n",
       "</style>\n",
       "<table border=\"1\" class=\"dataframe\">\n",
       "  <thead>\n",
       "    <tr style=\"text-align: right;\">\n",
       "      <th></th>\n",
       "      <th>Var 1</th>\n",
       "      <th>Var 2</th>\n",
       "      <th>Var 3</th>\n",
       "      <th>Var 4</th>\n",
       "      <th>Var 5</th>\n",
       "      <th>Var 6</th>\n",
       "      <th>Var 7</th>\n",
       "      <th>Var 8</th>\n",
       "      <th>Var 9</th>\n",
       "      <th>Var 10</th>\n",
       "      <th>...</th>\n",
       "      <th>Var 24</th>\n",
       "      <th>Var 25</th>\n",
       "      <th>Var 26</th>\n",
       "      <th>Var 27</th>\n",
       "      <th>Var 28</th>\n",
       "      <th>Var 29</th>\n",
       "      <th>Var 30</th>\n",
       "      <th>Var 31</th>\n",
       "      <th>Var 32</th>\n",
       "      <th>Var 33</th>\n",
       "    </tr>\n",
       "  </thead>\n",
       "  <tbody>\n",
       "    <tr>\n",
       "      <th>0</th>\n",
       "      <td>1</td>\n",
       "      <td>29/09/2003</td>\n",
       "      <td>18</td>\n",
       "      <td>20</td>\n",
       "      <td>25</td>\n",
       "      <td>23</td>\n",
       "      <td>10</td>\n",
       "      <td>11</td>\n",
       "      <td>24</td>\n",
       "      <td>14</td>\n",
       "      <td>...</td>\n",
       "      <td>48807</td>\n",
       "      <td>257593</td>\n",
       "      <td>49.76582</td>\n",
       "      <td>68984</td>\n",
       "      <td>1000</td>\n",
       "      <td>400</td>\n",
       "      <td>200</td>\n",
       "      <td>000</td>\n",
       "      <td>000</td>\n",
       "      <td>000</td>\n",
       "    </tr>\n",
       "    <tr>\n",
       "      <th>1</th>\n",
       "      <td>1</td>\n",
       "      <td>29/09/2003</td>\n",
       "      <td>18</td>\n",
       "      <td>20</td>\n",
       "      <td>25</td>\n",
       "      <td>23</td>\n",
       "      <td>10</td>\n",
       "      <td>11</td>\n",
       "      <td>24</td>\n",
       "      <td>14</td>\n",
       "      <td>...</td>\n",
       "      <td>48807</td>\n",
       "      <td>257593</td>\n",
       "      <td>49.76582</td>\n",
       "      <td>68984</td>\n",
       "      <td>1000</td>\n",
       "      <td>400</td>\n",
       "      <td>200</td>\n",
       "      <td>000</td>\n",
       "      <td>000</td>\n",
       "      <td>000</td>\n",
       "    </tr>\n",
       "    <tr>\n",
       "      <th>2</th>\n",
       "      <td>1</td>\n",
       "      <td>29/09/2003</td>\n",
       "      <td>18</td>\n",
       "      <td>20</td>\n",
       "      <td>25</td>\n",
       "      <td>23</td>\n",
       "      <td>10</td>\n",
       "      <td>11</td>\n",
       "      <td>24</td>\n",
       "      <td>14</td>\n",
       "      <td>...</td>\n",
       "      <td>48807</td>\n",
       "      <td>257593</td>\n",
       "      <td>49.76582</td>\n",
       "      <td>68984</td>\n",
       "      <td>1000</td>\n",
       "      <td>400</td>\n",
       "      <td>200</td>\n",
       "      <td>000</td>\n",
       "      <td>000</td>\n",
       "      <td>000</td>\n",
       "    </tr>\n",
       "    <tr>\n",
       "      <th>3</th>\n",
       "      <td>1</td>\n",
       "      <td>29/09/2003</td>\n",
       "      <td>18</td>\n",
       "      <td>20</td>\n",
       "      <td>25</td>\n",
       "      <td>23</td>\n",
       "      <td>10</td>\n",
       "      <td>11</td>\n",
       "      <td>24</td>\n",
       "      <td>14</td>\n",
       "      <td>...</td>\n",
       "      <td>48807</td>\n",
       "      <td>257593</td>\n",
       "      <td>49.76582</td>\n",
       "      <td>68984</td>\n",
       "      <td>1000</td>\n",
       "      <td>400</td>\n",
       "      <td>200</td>\n",
       "      <td>000</td>\n",
       "      <td>000</td>\n",
       "      <td>000</td>\n",
       "    </tr>\n",
       "    <tr>\n",
       "      <th>4</th>\n",
       "      <td>1</td>\n",
       "      <td>29/09/2003</td>\n",
       "      <td>18</td>\n",
       "      <td>20</td>\n",
       "      <td>25</td>\n",
       "      <td>23</td>\n",
       "      <td>10</td>\n",
       "      <td>11</td>\n",
       "      <td>24</td>\n",
       "      <td>14</td>\n",
       "      <td>...</td>\n",
       "      <td>48807</td>\n",
       "      <td>257593</td>\n",
       "      <td>49.76582</td>\n",
       "      <td>68984</td>\n",
       "      <td>1000</td>\n",
       "      <td>400</td>\n",
       "      <td>200</td>\n",
       "      <td>000</td>\n",
       "      <td>000</td>\n",
       "      <td>000</td>\n",
       "    </tr>\n",
       "    <tr>\n",
       "      <th>...</th>\n",
       "      <td>...</td>\n",
       "      <td>...</td>\n",
       "      <td>...</td>\n",
       "      <td>...</td>\n",
       "      <td>...</td>\n",
       "      <td>...</td>\n",
       "      <td>...</td>\n",
       "      <td>...</td>\n",
       "      <td>...</td>\n",
       "      <td>...</td>\n",
       "      <td>...</td>\n",
       "      <td>...</td>\n",
       "      <td>...</td>\n",
       "      <td>...</td>\n",
       "      <td>...</td>\n",
       "      <td>...</td>\n",
       "      <td>...</td>\n",
       "      <td>...</td>\n",
       "      <td>...</td>\n",
       "      <td>...</td>\n",
       "      <td>...</td>\n",
       "    </tr>\n",
       "    <tr>\n",
       "      <th>8322</th>\n",
       "      <td>2035</td>\n",
       "      <td>18/09/2020</td>\n",
       "      <td>24</td>\n",
       "      <td>13</td>\n",
       "      <td>19</td>\n",
       "      <td>25</td>\n",
       "      <td>23</td>\n",
       "      <td>18</td>\n",
       "      <td>8</td>\n",
       "      <td>16</td>\n",
       "      <td>...</td>\n",
       "      <td>162825</td>\n",
       "      <td>785271</td>\n",
       "      <td>292.85145</td>\n",
       "      <td>1.55532</td>\n",
       "      <td>2500</td>\n",
       "      <td>1000</td>\n",
       "      <td>500</td>\n",
       "      <td>000</td>\n",
       "      <td>1.200.00000</td>\n",
       "      <td>1.615.56467</td>\n",
       "    </tr>\n",
       "    <tr>\n",
       "      <th>8323</th>\n",
       "      <td>2035</td>\n",
       "      <td>18/09/2020</td>\n",
       "      <td>24</td>\n",
       "      <td>13</td>\n",
       "      <td>19</td>\n",
       "      <td>25</td>\n",
       "      <td>23</td>\n",
       "      <td>18</td>\n",
       "      <td>8</td>\n",
       "      <td>16</td>\n",
       "      <td>...</td>\n",
       "      <td>162825</td>\n",
       "      <td>785271</td>\n",
       "      <td>292.85145</td>\n",
       "      <td>1.55532</td>\n",
       "      <td>2500</td>\n",
       "      <td>1000</td>\n",
       "      <td>500</td>\n",
       "      <td>000</td>\n",
       "      <td>1.200.00000</td>\n",
       "      <td>1.615.56467</td>\n",
       "    </tr>\n",
       "    <tr>\n",
       "      <th>8324</th>\n",
       "      <td>2035</td>\n",
       "      <td>18/09/2020</td>\n",
       "      <td>24</td>\n",
       "      <td>13</td>\n",
       "      <td>19</td>\n",
       "      <td>25</td>\n",
       "      <td>23</td>\n",
       "      <td>18</td>\n",
       "      <td>8</td>\n",
       "      <td>16</td>\n",
       "      <td>...</td>\n",
       "      <td>162825</td>\n",
       "      <td>785271</td>\n",
       "      <td>292.85145</td>\n",
       "      <td>1.55532</td>\n",
       "      <td>2500</td>\n",
       "      <td>1000</td>\n",
       "      <td>500</td>\n",
       "      <td>000</td>\n",
       "      <td>1.200.00000</td>\n",
       "      <td>1.615.56467</td>\n",
       "    </tr>\n",
       "    <tr>\n",
       "      <th>8325</th>\n",
       "      <td>2035</td>\n",
       "      <td>18/09/2020</td>\n",
       "      <td>24</td>\n",
       "      <td>13</td>\n",
       "      <td>19</td>\n",
       "      <td>25</td>\n",
       "      <td>23</td>\n",
       "      <td>18</td>\n",
       "      <td>8</td>\n",
       "      <td>16</td>\n",
       "      <td>...</td>\n",
       "      <td>162825</td>\n",
       "      <td>785271</td>\n",
       "      <td>292.85145</td>\n",
       "      <td>1.55532</td>\n",
       "      <td>2500</td>\n",
       "      <td>1000</td>\n",
       "      <td>500</td>\n",
       "      <td>000</td>\n",
       "      <td>1.200.00000</td>\n",
       "      <td>1.615.56467</td>\n",
       "    </tr>\n",
       "    <tr>\n",
       "      <th>8326</th>\n",
       "      <td>2036</td>\n",
       "      <td>19/09/2020</td>\n",
       "      <td>22</td>\n",
       "      <td>7</td>\n",
       "      <td>19</td>\n",
       "      <td>25</td>\n",
       "      <td>11</td>\n",
       "      <td>8</td>\n",
       "      <td>17</td>\n",
       "      <td>5</td>\n",
       "      <td>...</td>\n",
       "      <td>89139</td>\n",
       "      <td>490671</td>\n",
       "      <td>612.26882</td>\n",
       "      <td>1.30532</td>\n",
       "      <td>2500</td>\n",
       "      <td>1000</td>\n",
       "      <td>500</td>\n",
       "      <td>000</td>\n",
       "      <td>1.500.00000</td>\n",
       "      <td>1.911.82379</td>\n",
       "    </tr>\n",
       "  </tbody>\n",
       "</table>\n",
       "<p>8327 rows × 33 columns</p>\n",
       "</div>"
      ],
      "text/plain": [
       "     Var 1       Var 2 Var 3 Var 4 Var 5 Var 6 Var 7 Var 8 Var 9 Var 10  ...  \\\n",
       "0        1  29/09/2003    18    20    25    23    10    11    24     14  ...   \n",
       "1        1  29/09/2003    18    20    25    23    10    11    24     14  ...   \n",
       "2        1  29/09/2003    18    20    25    23    10    11    24     14  ...   \n",
       "3        1  29/09/2003    18    20    25    23    10    11    24     14  ...   \n",
       "4        1  29/09/2003    18    20    25    23    10    11    24     14  ...   \n",
       "...    ...         ...   ...   ...   ...   ...   ...   ...   ...    ...  ...   \n",
       "8322  2035  18/09/2020    24    13    19    25    23    18     8     16  ...   \n",
       "8323  2035  18/09/2020    24    13    19    25    23    18     8     16  ...   \n",
       "8324  2035  18/09/2020    24    13    19    25    23    18     8     16  ...   \n",
       "8325  2035  18/09/2020    24    13    19    25    23    18     8     16  ...   \n",
       "8326  2036  19/09/2020    22     7    19    25    11     8    17      5  ...   \n",
       "\n",
       "      Var 24  Var 25     Var 26   Var 27 Var 28 Var 29 Var 30 Var 31  \\\n",
       "0      48807  257593   49.76582    68984   1000    400    200    000   \n",
       "1      48807  257593   49.76582    68984   1000    400    200    000   \n",
       "2      48807  257593   49.76582    68984   1000    400    200    000   \n",
       "3      48807  257593   49.76582    68984   1000    400    200    000   \n",
       "4      48807  257593   49.76582    68984   1000    400    200    000   \n",
       "...      ...     ...        ...      ...    ...    ...    ...    ...   \n",
       "8322  162825  785271  292.85145  1.55532   2500   1000    500    000   \n",
       "8323  162825  785271  292.85145  1.55532   2500   1000    500    000   \n",
       "8324  162825  785271  292.85145  1.55532   2500   1000    500    000   \n",
       "8325  162825  785271  292.85145  1.55532   2500   1000    500    000   \n",
       "8326   89139  490671  612.26882  1.30532   2500   1000    500    000   \n",
       "\n",
       "           Var 32       Var 33  \n",
       "0             000          000  \n",
       "1             000          000  \n",
       "2             000          000  \n",
       "3             000          000  \n",
       "4             000          000  \n",
       "...           ...          ...  \n",
       "8322  1.200.00000  1.615.56467  \n",
       "8323  1.200.00000  1.615.56467  \n",
       "8324  1.200.00000  1.615.56467  \n",
       "8325  1.200.00000  1.615.56467  \n",
       "8326  1.500.00000  1.911.82379  \n",
       "\n",
       "[8327 rows x 33 columns]"
      ]
     },
     "execution_count": 26,
     "metadata": {},
     "output_type": "execute_result"
    }
   ],
   "source": [
    "dat"
   ]
  },
  {
   "cell_type": "code",
   "execution_count": 33,
   "metadata": {},
   "outputs": [
    {
     "ename": "NameError",
     "evalue": "name 'end' is not defined",
     "output_type": "error",
     "traceback": [
      "\u001b[1;31m---------------------------------------------------------------------------\u001b[0m",
      "\u001b[1;31mNameError\u001b[0m                                 Traceback (most recent call last)",
      "\u001b[1;32m<ipython-input-33-4574ee582a3c>\u001b[0m in \u001b[0;36m<module>\u001b[1;34m\u001b[0m\n\u001b[1;32m----> 1\u001b[1;33m \u001b[0mdat\u001b[0m\u001b[1;33m.\u001b[0m\u001b[0mhead\u001b[0m\u001b[1;33m(\u001b[0m\u001b[0mend\u001b[0m\u001b[1;33m)\u001b[0m\u001b[1;33m\u001b[0m\u001b[1;33m\u001b[0m\u001b[0m\n\u001b[0m",
      "\u001b[1;31mNameError\u001b[0m: name 'end' is not defined"
     ]
    }
   ],
   "source": [
    "dat.head(end)"
   ]
  },
  {
   "cell_type": "code",
   "execution_count": 34,
   "metadata": {},
   "outputs": [],
   "source": [
    "dat.to_csv(r'lotofacil_excel.csv', index = False)"
   ]
  },
  {
   "cell_type": "code",
   "execution_count": null,
   "metadata": {},
   "outputs": [],
   "source": [
    "# \\n = vivo\n",
    "#   abs   book\n",
    "\n",
    "# \\t = vivo book"
   ]
  }
 ],
 "metadata": {
  "kernelspec": {
   "display_name": "Python 3",
   "language": "python",
   "name": "python3"
  },
  "language_info": {
   "codemirror_mode": {
    "name": "ipython",
    "version": 3
   },
   "file_extension": ".py",
   "mimetype": "text/x-python",
   "name": "python",
   "nbconvert_exporter": "python",
   "pygments_lexer": "ipython3",
   "version": "3.8.3"
  }
 },
 "nbformat": 4,
 "nbformat_minor": 4
}
