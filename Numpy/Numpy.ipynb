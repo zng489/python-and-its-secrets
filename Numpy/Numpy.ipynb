{
 "cells": [
  {
   "cell_type": "markdown",
   "metadata": {},
   "source": [
    "# Numpy"
   ]
  },
  {
   "cell_type": "code",
   "execution_count": 3,
   "metadata": {},
   "outputs": [],
   "source": [
    "import numpy as np\n",
    "import pandas as pd"
   ]
  },
  {
   "cell_type": "code",
   "execution_count": 2,
   "metadata": {},
   "outputs": [],
   "source": [
    "from IPython.display import Image\n",
    "from IPython.core.display import HTML "
   ]
  },
  {
   "cell_type": "code",
   "execution_count": null,
   "metadata": {},
   "outputs": [],
   "source": []
  },
  {
   "cell_type": "code",
   "execution_count": null,
   "metadata": {},
   "outputs": [],
   "source": []
  },
  {
   "cell_type": "code",
   "execution_count": 4,
   "metadata": {},
   "outputs": [
    {
     "data": {
      "text/html": [
       "<div>\n",
       "<style scoped>\n",
       "    .dataframe tbody tr th:only-of-type {\n",
       "        vertical-align: middle;\n",
       "    }\n",
       "\n",
       "    .dataframe tbody tr th {\n",
       "        vertical-align: top;\n",
       "    }\n",
       "\n",
       "    .dataframe thead th {\n",
       "        text-align: right;\n",
       "    }\n",
       "</style>\n",
       "<table border=\"1\" class=\"dataframe\">\n",
       "  <thead>\n",
       "    <tr style=\"text-align: right;\">\n",
       "      <th></th>\n",
       "      <th>0</th>\n",
       "      <th>1</th>\n",
       "    </tr>\n",
       "  </thead>\n",
       "  <tbody>\n",
       "    <tr>\n",
       "      <th>0</th>\n",
       "      <td>tom</td>\n",
       "      <td>10</td>\n",
       "    </tr>\n",
       "    <tr>\n",
       "      <th>1</th>\n",
       "      <td>nick</td>\n",
       "      <td>15</td>\n",
       "    </tr>\n",
       "    <tr>\n",
       "      <th>2</th>\n",
       "      <td>juli</td>\n",
       "      <td>14</td>\n",
       "    </tr>\n",
       "  </tbody>\n",
       "</table>\n",
       "</div>"
      ],
      "text/plain": [
       "      0   1\n",
       "0   tom  10\n",
       "1  nick  15\n",
       "2  juli  14"
      ]
     },
     "execution_count": 4,
     "metadata": {},
     "output_type": "execute_result"
    }
   ],
   "source": [
    "# List of lists\n",
    "\n",
    "data = [['tom',10], ['nick',15],['juli',14]]\n",
    "\n",
    "df = pd.DataFrame(data)\n",
    "\n",
    "df"
   ]
  },
  {
   "cell_type": "code",
   "execution_count": null,
   "metadata": {},
   "outputs": [],
   "source": []
  },
  {
   "cell_type": "code",
   "execution_count": null,
   "metadata": {},
   "outputs": [],
   "source": []
  },
  {
   "cell_type": "code",
   "execution_count": null,
   "metadata": {},
   "outputs": [],
   "source": []
  },
  {
   "cell_type": "code",
   "execution_count": 5,
   "metadata": {},
   "outputs": [
    {
     "data": {
      "text/html": [
       "<div>\n",
       "<style scoped>\n",
       "    .dataframe tbody tr th:only-of-type {\n",
       "        vertical-align: middle;\n",
       "    }\n",
       "\n",
       "    .dataframe tbody tr th {\n",
       "        vertical-align: top;\n",
       "    }\n",
       "\n",
       "    .dataframe thead th {\n",
       "        text-align: right;\n",
       "    }\n",
       "</style>\n",
       "<table border=\"1\" class=\"dataframe\">\n",
       "  <thead>\n",
       "    <tr style=\"text-align: right;\">\n",
       "      <th></th>\n",
       "      <th>name</th>\n",
       "      <th>age</th>\n",
       "    </tr>\n",
       "  </thead>\n",
       "  <tbody>\n",
       "    <tr>\n",
       "      <th>rank1</th>\n",
       "      <td>tom</td>\n",
       "      <td>12</td>\n",
       "    </tr>\n",
       "    <tr>\n",
       "      <th>rank2</th>\n",
       "      <td>zhang</td>\n",
       "      <td>43</td>\n",
       "    </tr>\n",
       "  </tbody>\n",
       "</table>\n",
       "</div>"
      ],
      "text/plain": [
       "        name  age\n",
       "rank1    tom   12\n",
       "rank2  zhang   43"
      ]
     },
     "execution_count": 5,
     "metadata": {},
     "output_type": "execute_result"
    }
   ],
   "source": [
    "# From dict of narray/lists\n",
    "\n",
    "data = {'name':['tom','zhang'],'age':[12,43]}\n",
    "\n",
    "df = pd.DataFrame(data, index=['rank1','rank2'] , columns = ['name','age'])\n",
    "\n",
    "df\n",
    "\n",
    "# my favourite!!!!"
   ]
  },
  {
   "cell_type": "code",
   "execution_count": null,
   "metadata": {},
   "outputs": [],
   "source": []
  },
  {
   "cell_type": "code",
   "execution_count": null,
   "metadata": {},
   "outputs": [],
   "source": []
  },
  {
   "cell_type": "code",
   "execution_count": null,
   "metadata": {},
   "outputs": [],
   "source": []
  },
  {
   "cell_type": "code",
   "execution_count": 6,
   "metadata": {},
   "outputs": [
    {
     "data": {
      "text/html": [
       "<div>\n",
       "<style scoped>\n",
       "    .dataframe tbody tr th:only-of-type {\n",
       "        vertical-align: middle;\n",
       "    }\n",
       "\n",
       "    .dataframe tbody tr th {\n",
       "        vertical-align: top;\n",
       "    }\n",
       "\n",
       "    .dataframe thead th {\n",
       "        text-align: right;\n",
       "    }\n",
       "</style>\n",
       "<table border=\"1\" class=\"dataframe\">\n",
       "  <thead>\n",
       "    <tr style=\"text-align: right;\">\n",
       "      <th></th>\n",
       "      <th>b</th>\n",
       "      <th>c</th>\n",
       "      <th>a</th>\n",
       "    </tr>\n",
       "  </thead>\n",
       "  <tbody>\n",
       "    <tr>\n",
       "      <th>first</th>\n",
       "      <td>2</td>\n",
       "      <td>3</td>\n",
       "      <td>NaN</td>\n",
       "    </tr>\n",
       "    <tr>\n",
       "      <th>second</th>\n",
       "      <td>20</td>\n",
       "      <td>30</td>\n",
       "      <td>10.0</td>\n",
       "    </tr>\n",
       "  </tbody>\n",
       "</table>\n",
       "</div>"
      ],
      "text/plain": [
       "         b   c     a\n",
       "first    2   3   NaN\n",
       "second  20  30  10.0"
      ]
     },
     "execution_count": 6,
     "metadata": {},
     "output_type": "execute_result"
    }
   ],
   "source": [
    "# DataFrame by passing lists of dictionaries and row indexes\n",
    "\n",
    "data = [{'b': 2, 'c':3}, {'a': 10, 'b': 20, 'c': 30}]\n",
    "\n",
    "df = pd.DataFrame(data, index =['first', 'second']) \n",
    "  \n",
    "df"
   ]
  },
  {
   "cell_type": "code",
   "execution_count": null,
   "metadata": {},
   "outputs": [],
   "source": []
  },
  {
   "cell_type": "code",
   "execution_count": null,
   "metadata": {},
   "outputs": [],
   "source": []
  },
  {
   "cell_type": "code",
   "execution_count": null,
   "metadata": {},
   "outputs": [],
   "source": []
  },
  {
   "cell_type": "code",
   "execution_count": 8,
   "metadata": {},
   "outputs": [
    {
     "data": {
      "text/html": [
       "<div>\n",
       "<style scoped>\n",
       "    .dataframe tbody tr th:only-of-type {\n",
       "        vertical-align: middle;\n",
       "    }\n",
       "\n",
       "    .dataframe tbody tr th {\n",
       "        vertical-align: top;\n",
       "    }\n",
       "\n",
       "    .dataframe thead th {\n",
       "        text-align: right;\n",
       "    }\n",
       "</style>\n",
       "<table border=\"1\" class=\"dataframe\">\n",
       "  <thead>\n",
       "    <tr style=\"text-align: right;\">\n",
       "      <th></th>\n",
       "      <th>Name</th>\n",
       "      <th>Age</th>\n",
       "    </tr>\n",
       "  </thead>\n",
       "  <tbody>\n",
       "    <tr>\n",
       "      <th>0</th>\n",
       "      <td>tom</td>\n",
       "      <td>25</td>\n",
       "    </tr>\n",
       "    <tr>\n",
       "      <th>1</th>\n",
       "      <td>krish</td>\n",
       "      <td>30</td>\n",
       "    </tr>\n",
       "    <tr>\n",
       "      <th>2</th>\n",
       "      <td>nick</td>\n",
       "      <td>26</td>\n",
       "    </tr>\n",
       "    <tr>\n",
       "      <th>3</th>\n",
       "      <td>juli</td>\n",
       "      <td>22</td>\n",
       "    </tr>\n",
       "  </tbody>\n",
       "</table>\n",
       "</div>"
      ],
      "text/plain": [
       "    Name  Age\n",
       "0    tom   25\n",
       "1  krish   30\n",
       "2   nick   26\n",
       "3   juli   22"
      ]
     },
     "execution_count": 8,
     "metadata": {},
     "output_type": "execute_result"
    }
   ],
   "source": [
    "# Creating DataFrame using zip() function\n",
    "\n",
    "# List1  \n",
    "Name = ['tom', 'krish', 'nick', 'juli']  \n",
    "    \n",
    "# List2  \n",
    "Age = [25, 30, 26, 22]  \n",
    "\n",
    "\n",
    "list_of_tuples = list(zip(Name,Age))\n",
    "\n",
    "list_of_tuples\n",
    "\n",
    "df = pd.DataFrame(list_of_tuples, columns = ['Name','Age'])\n",
    "\n",
    "df"
   ]
  },
  {
   "cell_type": "code",
   "execution_count": null,
   "metadata": {},
   "outputs": [],
   "source": []
  },
  {
   "cell_type": "code",
   "execution_count": null,
   "metadata": {},
   "outputs": [],
   "source": [
    "https://www.geeksforgeeks.org/different-ways-to-create-pandas-dataframe/#:~:text=%23%20print%20dataframe.&text=To%20create%20DataFrame%20from%20dict,n%20is%20the%20array%20length."
   ]
  },
  {
   "cell_type": "code",
   "execution_count": null,
   "metadata": {},
   "outputs": [],
   "source": []
  },
  {
   "cell_type": "markdown",
   "metadata": {},
   "source": [
    "# --------------------------------------------------------------------"
   ]
  },
  {
   "cell_type": "code",
   "execution_count": 4,
   "metadata": {},
   "outputs": [],
   "source": [
    "array = np.arange(20)"
   ]
  },
  {
   "cell_type": "code",
   "execution_count": 15,
   "metadata": {},
   "outputs": [
    {
     "data": {
      "text/plain": [
       "(20,)"
      ]
     },
     "execution_count": 15,
     "metadata": {},
     "output_type": "execute_result"
    }
   ],
   "source": [
    "array.shape"
   ]
  },
  {
   "cell_type": "code",
   "execution_count": 10,
   "metadata": {},
   "outputs": [
    {
     "data": {
      "text/plain": [
       "array([ 0,  1,  2,  3,  4,  5,  6,  7,  8,  9, 10, 11, 12, 13, 14, 15, 16,\n",
       "       17, 18, 19])"
      ]
     },
     "execution_count": 10,
     "metadata": {},
     "output_type": "execute_result"
    }
   ],
   "source": [
    "array"
   ]
  },
  {
   "cell_type": "raw",
   "metadata": {},
   "source": [
    "array_data_frame = pd.DataFrame(array)"
   ]
  },
  {
   "cell_type": "code",
   "execution_count": 11,
   "metadata": {},
   "outputs": [
    {
     "ename": "SyntaxError",
     "evalue": "invalid syntax (<ipython-input-11-ce3df3bd8d70>, line 3)",
     "output_type": "error",
     "traceback": [
      "\u001b[1;36m  File \u001b[1;32m\"<ipython-input-11-ce3df3bd8d70>\"\u001b[1;36m, line \u001b[1;32m3\u001b[0m\n\u001b[1;33m    ---------------------------------------------------------------------------\u001b[0m\n\u001b[1;37m                                                                               ^\u001b[0m\n\u001b[1;31mSyntaxError\u001b[0m\u001b[1;31m:\u001b[0m invalid syntax\n"
     ]
    }
   ],
   "source": [
    "array_data_frame\n",
    "\n",
    "---------------------------------------------------------------------------\n",
    "NameError                                 Traceback (most recent call last)\n",
    "<ipython-input-17-19c6cc380bcd> in <module>\n",
    "----> 1 array_data_frame\n",
    "\n",
    "NameError: name 'array_data_frame' is not defined"
   ]
  },
  {
   "cell_type": "markdown",
   "metadata": {},
   "source": [
    "# --------------------------------------------------------------------"
   ]
  },
  {
   "cell_type": "code",
   "execution_count": 5,
   "metadata": {},
   "outputs": [],
   "source": [
    "arr = np.array([[1,2,3],[4,2,5]])"
   ]
  },
  {
   "cell_type": "code",
   "execution_count": 19,
   "metadata": {},
   "outputs": [
    {
     "data": {
      "text/plain": [
       "array([[1, 2, 3],\n",
       "       [4, 2, 5]])"
      ]
     },
     "execution_count": 19,
     "metadata": {},
     "output_type": "execute_result"
    }
   ],
   "source": [
    "arr"
   ]
  },
  {
   "cell_type": "code",
   "execution_count": null,
   "metadata": {},
   "outputs": [],
   "source": []
  },
  {
   "cell_type": "code",
   "execution_count": null,
   "metadata": {},
   "outputs": [],
   "source": []
  },
  {
   "cell_type": "code",
   "execution_count": null,
   "metadata": {},
   "outputs": [],
   "source": []
  },
  {
   "cell_type": "code",
   "execution_count": 17,
   "metadata": {},
   "outputs": [
    {
     "data": {
      "text/plain": [
       "numpy.ndarray"
      ]
     },
     "execution_count": 17,
     "metadata": {},
     "output_type": "execute_result"
    }
   ],
   "source": [
    "type(arr)"
   ]
  },
  {
   "cell_type": "code",
   "execution_count": 6,
   "metadata": {},
   "outputs": [
    {
     "data": {
      "text/plain": [
       "dtype('int32')"
      ]
     },
     "execution_count": 6,
     "metadata": {},
     "output_type": "execute_result"
    }
   ],
   "source": [
    "arr.dtype"
   ]
  },
  {
   "cell_type": "code",
   "execution_count": null,
   "metadata": {},
   "outputs": [],
   "source": []
  },
  {
   "cell_type": "code",
   "execution_count": null,
   "metadata": {},
   "outputs": [],
   "source": []
  },
  {
   "cell_type": "code",
   "execution_count": null,
   "metadata": {},
   "outputs": [],
   "source": []
  },
  {
   "cell_type": "code",
   "execution_count": 18,
   "metadata": {},
   "outputs": [
    {
     "data": {
      "text/plain": [
       "(2, 3)"
      ]
     },
     "execution_count": 18,
     "metadata": {},
     "output_type": "execute_result"
    }
   ],
   "source": [
    "arr.shape"
   ]
  },
  {
   "cell_type": "code",
   "execution_count": 20,
   "metadata": {},
   "outputs": [
    {
     "data": {
      "text/plain": [
       "6"
      ]
     },
     "execution_count": 20,
     "metadata": {},
     "output_type": "execute_result"
    }
   ],
   "source": [
    "arr.size"
   ]
  },
  {
   "cell_type": "code",
   "execution_count": 21,
   "metadata": {},
   "outputs": [
    {
     "data": {
      "text/plain": [
       "2"
      ]
     },
     "execution_count": 21,
     "metadata": {},
     "output_type": "execute_result"
    }
   ],
   "source": [
    "arr.ndim"
   ]
  },
  {
   "cell_type": "code",
   "execution_count": null,
   "metadata": {},
   "outputs": [],
   "source": []
  },
  {
   "cell_type": "code",
   "execution_count": 6,
   "metadata": {},
   "outputs": [
    {
     "data": {
      "text/html": [
       "<img src=\"http://www.w3resource.com/w3r_images/python-data-type-list-excercise-13.svg\" width=\"300\" height=\"300\"/>"
      ],
      "text/plain": [
       "<IPython.core.display.Image object>"
      ]
     },
     "execution_count": 6,
     "metadata": {},
     "output_type": "execute_result"
    }
   ],
   "source": [
    "Image(url= \"http://www.w3resource.com/w3r_images/python-data-type-list-excercise-13.svg\", width=300, height=300)"
   ]
  },
  {
   "cell_type": "code",
   "execution_count": null,
   "metadata": {},
   "outputs": [],
   "source": []
  },
  {
   "cell_type": "code",
   "execution_count": 7,
   "metadata": {},
   "outputs": [],
   "source": [
    "a = np.array((1,3,2))"
   ]
  },
  {
   "cell_type": "code",
   "execution_count": 8,
   "metadata": {},
   "outputs": [
    {
     "data": {
      "text/plain": [
       "array([1, 3, 2])"
      ]
     },
     "execution_count": 8,
     "metadata": {},
     "output_type": "execute_result"
    }
   ],
   "source": [
    "a"
   ]
  },
  {
   "cell_type": "code",
   "execution_count": 9,
   "metadata": {},
   "outputs": [
    {
     "data": {
      "text/plain": [
       "1"
      ]
     },
     "execution_count": 9,
     "metadata": {},
     "output_type": "execute_result"
    }
   ],
   "source": [
    "a.ndim"
   ]
  },
  {
   "cell_type": "code",
   "execution_count": null,
   "metadata": {},
   "outputs": [],
   "source": []
  },
  {
   "cell_type": "code",
   "execution_count": null,
   "metadata": {},
   "outputs": [],
   "source": []
  },
  {
   "cell_type": "code",
   "execution_count": null,
   "metadata": {},
   "outputs": [],
   "source": []
  },
  {
   "cell_type": "markdown",
   "metadata": {},
   "source": [
    "# Lists"
   ]
  },
  {
   "cell_type": "code",
   "execution_count": 2,
   "metadata": {},
   "outputs": [],
   "source": [
    "A = [1,2,3]"
   ]
  },
  {
   "cell_type": "code",
   "execution_count": 4,
   "metadata": {},
   "outputs": [
    {
     "data": {
      "text/plain": [
       "[1, 2, 3]"
      ]
     },
     "execution_count": 4,
     "metadata": {},
     "output_type": "execute_result"
    }
   ],
   "source": [
    "A"
   ]
  },
  {
   "cell_type": "code",
   "execution_count": 3,
   "metadata": {},
   "outputs": [],
   "source": [
    "B = np.array(A)"
   ]
  },
  {
   "cell_type": "code",
   "execution_count": 5,
   "metadata": {},
   "outputs": [
    {
     "data": {
      "text/plain": [
       "array([1, 2, 3])"
      ]
     },
     "execution_count": 5,
     "metadata": {},
     "output_type": "execute_result"
    }
   ],
   "source": [
    "B"
   ]
  },
  {
   "cell_type": "code",
   "execution_count": 6,
   "metadata": {},
   "outputs": [],
   "source": [
    "C = np.array([1,2,3])"
   ]
  },
  {
   "cell_type": "code",
   "execution_count": 7,
   "metadata": {},
   "outputs": [
    {
     "data": {
      "text/plain": [
       "array([1, 2, 3])"
      ]
     },
     "execution_count": 7,
     "metadata": {},
     "output_type": "execute_result"
    }
   ],
   "source": [
    "C"
   ]
  },
  {
   "cell_type": "code",
   "execution_count": null,
   "metadata": {},
   "outputs": [],
   "source": []
  },
  {
   "cell_type": "code",
   "execution_count": null,
   "metadata": {},
   "outputs": [],
   "source": []
  },
  {
   "cell_type": "code",
   "execution_count": null,
   "metadata": {},
   "outputs": [],
   "source": []
  },
  {
   "cell_type": "code",
   "execution_count": 11,
   "metadata": {},
   "outputs": [
    {
     "data": {
      "text/plain": [
       "array([0., 0., 0., 0., 0., 0., 0., 0., 0., 0.])"
      ]
     },
     "execution_count": 11,
     "metadata": {},
     "output_type": "execute_result"
    }
   ],
   "source": [
    "np.zeros(10)"
   ]
  },
  {
   "cell_type": "code",
   "execution_count": 12,
   "metadata": {},
   "outputs": [
    {
     "data": {
      "text/plain": [
       "array([1., 1., 1., 1., 1., 1., 1., 1., 1., 1.])"
      ]
     },
     "execution_count": 12,
     "metadata": {},
     "output_type": "execute_result"
    }
   ],
   "source": [
    "np.ones(10)"
   ]
  },
  {
   "cell_type": "code",
   "execution_count": 13,
   "metadata": {},
   "outputs": [
    {
     "data": {
      "text/plain": [
       "array([5., 5., 5., 5., 5., 5., 5., 5., 5., 5.])"
      ]
     },
     "execution_count": 13,
     "metadata": {},
     "output_type": "execute_result"
    }
   ],
   "source": [
    "np.ones(10)*5"
   ]
  },
  {
   "cell_type": "code",
   "execution_count": 14,
   "metadata": {},
   "outputs": [
    {
     "data": {
      "text/plain": [
       "array([10, 11, 12, 13, 14, 15, 16, 17, 18, 19, 20, 21, 22, 23, 24, 25, 26,\n",
       "       27, 28, 29, 30, 31, 32, 33, 34, 35, 36, 37, 38, 39, 40, 41, 42, 43,\n",
       "       44, 45, 46, 47, 48, 49, 50])"
      ]
     },
     "execution_count": 14,
     "metadata": {},
     "output_type": "execute_result"
    }
   ],
   "source": [
    "np.arange(10,51)"
   ]
  },
  {
   "cell_type": "code",
   "execution_count": null,
   "metadata": {},
   "outputs": [],
   "source": []
  },
  {
   "cell_type": "code",
   "execution_count": null,
   "metadata": {},
   "outputs": [],
   "source": []
  },
  {
   "cell_type": "code",
   "execution_count": null,
   "metadata": {},
   "outputs": [],
   "source": []
  },
  {
   "cell_type": "code",
   "execution_count": null,
   "metadata": {},
   "outputs": [],
   "source": [
    "#Using () creates a tuple which is basically an immutable list, \n",
    "#meaning once it is created you cannot add, change, or remove elements from the tuple.\n",
    "\n",
    "#Using [] creates a list which works like an array or vector from other languages. \n",
    "#Elements can be added, removed, and changed\n",
    "\n",
    "#array=matriz\n",
    "\n",
    "A = {'to:2','would:5','Clap:4'} #dictionary\n",
    "B = [1,3,4,5]\n",
    "C = (6,7,8,9) #Tuples"
   ]
  },
  {
   "cell_type": "code",
   "execution_count": null,
   "metadata": {},
   "outputs": [],
   "source": []
  },
  {
   "cell_type": "code",
   "execution_count": null,
   "metadata": {},
   "outputs": [],
   "source": []
  },
  {
   "cell_type": "code",
   "execution_count": null,
   "metadata": {},
   "outputs": [],
   "source": []
  },
  {
   "cell_type": "code",
   "execution_count": null,
   "metadata": {},
   "outputs": [],
   "source": [
    "import numpy as np\n",
    "import pandas as pd\n",
    "list('zhang')\n",
    "letters = list('name')\n",
    "letters[0]\n",
    "  mylist = [1,2,3,4,5]\n",
    "for item in mylist:\n",
    "    print(item)"
   ]
  },
  {
   "cell_type": "code",
   "execution_count": null,
   "metadata": {},
   "outputs": [],
   "source": []
  },
  {
   "cell_type": "code",
   "execution_count": null,
   "metadata": {},
   "outputs": [],
   "source": []
  },
  {
   "cell_type": "code",
   "execution_count": null,
   "metadata": {},
   "outputs": [],
   "source": []
  },
  {
   "cell_type": "code",
   "execution_count": 15,
   "metadata": {},
   "outputs": [],
   "source": [
    "a = np.arange(0, 10)"
   ]
  },
  {
   "cell_type": "code",
   "execution_count": 16,
   "metadata": {},
   "outputs": [],
   "source": [
    "b = np.arange(0, 10, 2) #(start =, stop =, num=)"
   ]
  },
  {
   "cell_type": "code",
   "execution_count": 17,
   "metadata": {},
   "outputs": [
    {
     "data": {
      "text/plain": [
       "array([0, 2, 4, 6, 8])"
      ]
     },
     "execution_count": 17,
     "metadata": {},
     "output_type": "execute_result"
    }
   ],
   "source": [
    "b"
   ]
  },
  {
   "cell_type": "code",
   "execution_count": null,
   "metadata": {},
   "outputs": [],
   "source": []
  },
  {
   "cell_type": "code",
   "execution_count": null,
   "metadata": {},
   "outputs": [],
   "source": []
  },
  {
   "cell_type": "code",
   "execution_count": null,
   "metadata": {},
   "outputs": [],
   "source": []
  },
  {
   "cell_type": "code",
   "execution_count": 22,
   "metadata": {},
   "outputs": [],
   "source": [
    "D = np.arange(15).reshape(3,5)"
   ]
  },
  {
   "cell_type": "code",
   "execution_count": 18,
   "metadata": {},
   "outputs": [
    {
     "data": {
      "text/plain": [
       "array([[ 0,  1,  2,  3,  4],\n",
       "       [ 5,  6,  7,  8,  9],\n",
       "       [10, 11, 12, 13, 14]])"
      ]
     },
     "execution_count": 18,
     "metadata": {},
     "output_type": "execute_result"
    }
   ],
   "source": [
    "D"
   ]
  },
  {
   "cell_type": "code",
   "execution_count": null,
   "metadata": {},
   "outputs": [],
   "source": []
  },
  {
   "cell_type": "code",
   "execution_count": null,
   "metadata": {},
   "outputs": [],
   "source": []
  },
  {
   "cell_type": "code",
   "execution_count": null,
   "metadata": {},
   "outputs": [],
   "source": []
  },
  {
   "cell_type": "code",
   "execution_count": 24,
   "metadata": {},
   "outputs": [],
   "source": [
    "E = np.arange(15).reshape(3,5,-1)"
   ]
  },
  {
   "cell_type": "code",
   "execution_count": 25,
   "metadata": {},
   "outputs": [
    {
     "data": {
      "text/plain": [
       "array([[[ 0],\n",
       "        [ 1],\n",
       "        [ 2],\n",
       "        [ 3],\n",
       "        [ 4]],\n",
       "\n",
       "       [[ 5],\n",
       "        [ 6],\n",
       "        [ 7],\n",
       "        [ 8],\n",
       "        [ 9]],\n",
       "\n",
       "       [[10],\n",
       "        [11],\n",
       "        [12],\n",
       "        [13],\n",
       "        [14]]])"
      ]
     },
     "execution_count": 25,
     "metadata": {},
     "output_type": "execute_result"
    }
   ],
   "source": [
    "E"
   ]
  },
  {
   "cell_type": "code",
   "execution_count": null,
   "metadata": {},
   "outputs": [],
   "source": [
    "#numpy.array(object, dtype = None, copy = True, order = None, subok = False, ndmin = 0)"
   ]
  },
  {
   "cell_type": "code",
   "execution_count": null,
   "metadata": {},
   "outputs": [],
   "source": []
  },
  {
   "cell_type": "code",
   "execution_count": null,
   "metadata": {},
   "outputs": [],
   "source": []
  },
  {
   "cell_type": "code",
   "execution_count": null,
   "metadata": {},
   "outputs": [],
   "source": []
  },
  {
   "cell_type": "code",
   "execution_count": 53,
   "metadata": {},
   "outputs": [],
   "source": [
    "F = np.array([1,2,3,4,5], ndmin = 3)"
   ]
  },
  {
   "cell_type": "code",
   "execution_count": 42,
   "metadata": {},
   "outputs": [
    {
     "data": {
      "text/plain": [
       "array([[[1, 2, 3, 4, 5]]])"
      ]
     },
     "execution_count": 42,
     "metadata": {},
     "output_type": "execute_result"
    }
   ],
   "source": [
    "F"
   ]
  },
  {
   "cell_type": "code",
   "execution_count": 38,
   "metadata": {},
   "outputs": [],
   "source": [
    "G = np.array([1,2,3], dtype = complex)"
   ]
  },
  {
   "cell_type": "code",
   "execution_count": 36,
   "metadata": {},
   "outputs": [
    {
     "data": {
      "text/plain": [
       "array([1.+0.j, 2.+0.j, 3.+0.j])"
      ]
     },
     "execution_count": 36,
     "metadata": {},
     "output_type": "execute_result"
    }
   ],
   "source": [
    "G"
   ]
  },
  {
   "cell_type": "code",
   "execution_count": 39,
   "metadata": {},
   "outputs": [],
   "source": [
    "H = np.array([1,2,3], dtype = object)"
   ]
  },
  {
   "cell_type": "code",
   "execution_count": 40,
   "metadata": {},
   "outputs": [
    {
     "data": {
      "text/plain": [
       "array([1, 2, 3], dtype=object)"
      ]
     },
     "execution_count": 40,
     "metadata": {},
     "output_type": "execute_result"
    }
   ],
   "source": [
    "H"
   ]
  },
  {
   "cell_type": "code",
   "execution_count": 44,
   "metadata": {},
   "outputs": [],
   "source": [
    "I = np.array([[1,2,3],[4,5,6]])"
   ]
  },
  {
   "cell_type": "code",
   "execution_count": 45,
   "metadata": {},
   "outputs": [
    {
     "data": {
      "text/plain": [
       "array([[1, 2, 3],\n",
       "       [4, 5, 6]])"
      ]
     },
     "execution_count": 45,
     "metadata": {},
     "output_type": "execute_result"
    }
   ],
   "source": [
    "I"
   ]
  },
  {
   "cell_type": "code",
   "execution_count": 47,
   "metadata": {},
   "outputs": [
    {
     "name": "stdout",
     "output_type": "stream",
     "text": [
      "(2, 3)\n"
     ]
    }
   ],
   "source": [
    "print (I.shape)"
   ]
  },
  {
   "cell_type": "code",
   "execution_count": 48,
   "metadata": {},
   "outputs": [],
   "source": [
    "L = I.reshape(3,2)"
   ]
  },
  {
   "cell_type": "code",
   "execution_count": 49,
   "metadata": {},
   "outputs": [
    {
     "data": {
      "text/plain": [
       "array([[1, 2],\n",
       "       [3, 4],\n",
       "       [5, 6]])"
      ]
     },
     "execution_count": 49,
     "metadata": {},
     "output_type": "execute_result"
    }
   ],
   "source": [
    "L"
   ]
  },
  {
   "cell_type": "code",
   "execution_count": 56,
   "metadata": {},
   "outputs": [
    {
     "ename": "NameError",
     "evalue": "name 'numpy' is not defined",
     "output_type": "error",
     "traceback": [
      "\u001b[1;31m---------------------------------------------------------------------------\u001b[0m",
      "\u001b[1;31mNameError\u001b[0m                                 Traceback (most recent call last)",
      "\u001b[1;32m<ipython-input-56-5a7857a0153b>\u001b[0m in \u001b[0;36m<module>\u001b[1;34m\u001b[0m\n\u001b[1;32m----> 1\u001b[1;33m \u001b[0mnumpy\u001b[0m\u001b[1;33m.\u001b[0m\u001b[0mempty\u001b[0m\u001b[1;33m(\u001b[0m\u001b[0mshape\u001b[0m\u001b[1;33m,\u001b[0m \u001b[0mdtype\u001b[0m \u001b[1;33m=\u001b[0m \u001b[0mfloat\u001b[0m\u001b[1;33m,\u001b[0m \u001b[0morder\u001b[0m \u001b[1;33m=\u001b[0m \u001b[1;34m'C'\u001b[0m\u001b[1;33m)\u001b[0m\u001b[1;33m\u001b[0m\u001b[1;33m\u001b[0m\u001b[0m\n\u001b[0m",
      "\u001b[1;31mNameError\u001b[0m: name 'numpy' is not defined"
     ]
    }
   ],
   "source": [
    "numpy.empty(shape, dtype = float, order = 'C')"
   ]
  },
  {
   "cell_type": "code",
   "execution_count": 57,
   "metadata": {},
   "outputs": [],
   "source": [
    "x = np.empty([3,2], dtype = int)"
   ]
  },
  {
   "cell_type": "code",
   "execution_count": 60,
   "metadata": {},
   "outputs": [
    {
     "data": {
      "text/plain": [
       "array([[         0, 1072693248],\n",
       "       [         0, 1073741824],\n",
       "       [         0, 1074266112]])"
      ]
     },
     "execution_count": 60,
     "metadata": {},
     "output_type": "execute_result"
    }
   ],
   "source": [
    "x"
   ]
  },
  {
   "cell_type": "code",
   "execution_count": null,
   "metadata": {},
   "outputs": [],
   "source": []
  },
  {
   "cell_type": "code",
   "execution_count": null,
   "metadata": {},
   "outputs": [],
   "source": []
  },
  {
   "cell_type": "code",
   "execution_count": null,
   "metadata": {},
   "outputs": [],
   "source": []
  },
  {
   "cell_type": "markdown",
   "metadata": {},
   "source": [
    "# Convert list to ndarray"
   ]
  },
  {
   "cell_type": "code",
   "execution_count": 64,
   "metadata": {},
   "outputs": [],
   "source": [
    "y = [1,2,3]\n",
    "M = np.asarray(y)"
   ]
  },
  {
   "cell_type": "code",
   "execution_count": 65,
   "metadata": {},
   "outputs": [
    {
     "data": {
      "text/plain": [
       "array([1, 2, 3])"
      ]
     },
     "execution_count": 65,
     "metadata": {},
     "output_type": "execute_result"
    }
   ],
   "source": [
    "M"
   ]
  },
  {
   "cell_type": "code",
   "execution_count": 70,
   "metadata": {},
   "outputs": [
    {
     "data": {
      "text/plain": [
       "dtype('int32')"
      ]
     },
     "execution_count": 70,
     "metadata": {},
     "output_type": "execute_result"
    }
   ],
   "source": [
    "M.dtype"
   ]
  },
  {
   "cell_type": "code",
   "execution_count": 71,
   "metadata": {},
   "outputs": [
    {
     "ename": "TypeError",
     "evalue": "a bytes-like object is required, not 'str'",
     "output_type": "error",
     "traceback": [
      "\u001b[1;31m---------------------------------------------------------------------------\u001b[0m",
      "\u001b[1;31mTypeError\u001b[0m                                 Traceback (most recent call last)",
      "\u001b[1;32m<ipython-input-71-a77a7844333c>\u001b[0m in \u001b[0;36m<module>\u001b[1;34m\u001b[0m\n\u001b[0;32m      1\u001b[0m \u001b[0ms\u001b[0m \u001b[1;33m=\u001b[0m \u001b[1;34m'Hello World'\u001b[0m\u001b[1;33m\u001b[0m\u001b[1;33m\u001b[0m\u001b[0m\n\u001b[1;32m----> 2\u001b[1;33m \u001b[0ma\u001b[0m \u001b[1;33m=\u001b[0m \u001b[0mnp\u001b[0m\u001b[1;33m.\u001b[0m\u001b[0mfrombuffer\u001b[0m\u001b[1;33m(\u001b[0m\u001b[0ms\u001b[0m\u001b[1;33m,\u001b[0m \u001b[0mdtype\u001b[0m \u001b[1;33m=\u001b[0m\u001b[1;34m'S1'\u001b[0m\u001b[1;33m)\u001b[0m\u001b[1;33m\u001b[0m\u001b[1;33m\u001b[0m\u001b[0m\n\u001b[0m",
      "\u001b[1;31mTypeError\u001b[0m: a bytes-like object is required, not 'str'"
     ]
    }
   ],
   "source": [
    "s = 'Hello World'\n",
    "a = np.frombuffer(s, dtype ='S1')"
   ]
  },
  {
   "cell_type": "markdown",
   "metadata": {},
   "source": [
    "# [:]"
   ]
  },
  {
   "cell_type": "code",
   "execution_count": 34,
   "metadata": {},
   "outputs": [],
   "source": [
    "arr = np.arange(50)"
   ]
  },
  {
   "cell_type": "code",
   "execution_count": 38,
   "metadata": {},
   "outputs": [],
   "source": [
    "arr2 = arr[:3]"
   ]
  },
  {
   "cell_type": "markdown",
   "metadata": {},
   "source": [
    "[:3] it`s means start at 0 but 3 doesn`t get into it, ex:array([0, 1, 2])"
   ]
  },
  {
   "cell_type": "code",
   "execution_count": 47,
   "metadata": {},
   "outputs": [],
   "source": [
    "b = np.arange(1,26)"
   ]
  },
  {
   "cell_type": "code",
   "execution_count": 48,
   "metadata": {},
   "outputs": [
    {
     "data": {
      "text/plain": [
       "array([ 1,  2,  3,  4,  5,  6,  7,  8,  9, 10, 11, 12, 13, 14, 15, 16, 17,\n",
       "       18, 19, 20, 21, 22, 23, 24, 25])"
      ]
     },
     "execution_count": 48,
     "metadata": {},
     "output_type": "execute_result"
    }
   ],
   "source": [
    "b"
   ]
  },
  {
   "cell_type": "code",
   "execution_count": 49,
   "metadata": {},
   "outputs": [],
   "source": [
    "b = np.arange(1,26).reshape(5,5)"
   ]
  },
  {
   "cell_type": "code",
   "execution_count": 50,
   "metadata": {},
   "outputs": [
    {
     "data": {
      "text/plain": [
       "array([[ 1,  2,  3,  4,  5],\n",
       "       [ 6,  7,  8,  9, 10],\n",
       "       [11, 12, 13, 14, 15],\n",
       "       [16, 17, 18, 19, 20],\n",
       "       [21, 22, 23, 24, 25]])"
      ]
     },
     "execution_count": 50,
     "metadata": {},
     "output_type": "execute_result"
    }
   ],
   "source": [
    "b"
   ]
  },
  {
   "cell_type": "code",
   "execution_count": 56,
   "metadata": {},
   "outputs": [
    {
     "data": {
      "text/plain": [
       "array([[13, 14, 15],\n",
       "       [18, 19, 20],\n",
       "       [23, 24, 25]])"
      ]
     },
     "execution_count": 56,
     "metadata": {},
     "output_type": "execute_result"
    }
   ],
   "source": [
    "b[2:,2:]"
   ]
  },
  {
   "cell_type": "markdown",
   "metadata": {},
   "source": [
    "[2:,2:] it`s means start at third rown uncounting second row and starting at the third number"
   ]
  },
  {
   "cell_type": "markdown",
   "metadata": {},
   "source": [
    "TypeError: 'builtin_function_or_method' object is not subscriptable\n",
    "\n",
    "In my case, it was occurred due to bad indentation.\n",
    "\n",
    "Just indenting the line of code solved the issue"
   ]
  },
  {
   "cell_type": "code",
   "execution_count": 1,
   "metadata": {},
   "outputs": [
    {
     "ename": "SyntaxError",
     "evalue": "invalid syntax (<ipython-input-1-8c3907d957a0>, line 14)",
     "output_type": "error",
     "traceback": [
      "\u001b[1;36m  File \u001b[1;32m\"<ipython-input-1-8c3907d957a0>\"\u001b[1;36m, line \u001b[1;32m14\u001b[0m\n\u001b[1;33m    np.linspace(0, 5, 11) --> linspace is a code that it introduces the sequence of number that i want it, for instance, still being matriz\u001b[0m\n\u001b[1;37m                            ^\u001b[0m\n\u001b[1;31mSyntaxError\u001b[0m\u001b[1;31m:\u001b[0m invalid syntax\n"
     ]
    }
   ],
   "source": [
    "NUMPY\n",
    "\n",
    "np.arange(0, 10)\n",
    "ANSWER:array([0, 1, 2, 3, 4, 5, 6, 7, 8, 9, 10])\n",
    "\n",
    "\n",
    "np.arange(0, 10, 2)\n",
    "ANSWER:np.array([0, 2, 4, 6, 8, 10])\n",
    "\n",
    "\n",
    "np.linspace(0, 1000, 3)\n",
    "ANSWER: array([0., 500., 1000.])\n",
    "\n",
    "np.linspace(0, 5, 11) --> linspace is a code that it introduces the sequence of number that i want it, for instance, still being matriz\n",
    "linspace(start =, stop =, num=)\n",
    "\n",
    "--------------------------------------------------------------------------------------------------------------------------------------------\n",
    "\n",
    "np.zeros(3)\n",
    "np.ones(3)\n",
    "np.eye(4) --> matriz identidade\n",
    "I will get a matriz with numbers 0\n",
    "\n",
    "\n",
    "I REALLY DON`T KNOW THE PURPOSE FOR THOSE CODE.\n",
    "\n",
    "\n",
    "arr = np.zeros((5,5))\n",
    "I will get a matriz (5x5) with numers 0\n",
    "\n",
    "-----------------------------------------------------------------------------------------------------\n",
    "\n",
    "np.random.rand(5) --> when you write it will show you fiver random number\n",
    "np.random.rand(5)\n",
    "np.random.rand(5) * 100\n",
    "\n",
    "-----------------------------------------------------------------------------------------------------------------------\n",
    "\n",
    "np.random.randint(0, 100, 10) --> it will give 10 random numbers between 0 and 100 ===> it`s like LINSPACE\n",
    "\n",
    "-------------------------------------------------------------------------------------------------\n",
    "\n",
    "np.around(1.23456789)\n",
    "ANSWER:1.0\n",
    "\n",
    "np.around(1.23456789, 2)\n",
    "ANSWER:1.23\n",
    "\n",
    "--------------------------------------------------------------------------------------------------------------\n",
    "\n",
    "arr = np.random.rand(25)\n",
    "arr.reshape((5,5)) --> whe use reshape we want it to change somenthing else.\n",
    "\n",
    "-------------------------------------------------------------------------------------------------------------\n",
    "MATHEMATICS METHODS\n",
    "\n",
    "arr.max()\n",
    "arr.min()\n",
    "arr.argmax()\n",
    "arr.argmin()\n",
    "\n",
    "---------------------------------------------------------------------------------------------------------------\n",
    "\n",
    "arr = np.arange(0, 30, 3)\n",
    "ANSWER:array([0, 3, 6, 9, 12, 15, 18, 21, 24, 27)]\n",
    "\n",
    "\n",
    "arr[3]   ==> [] giving you the number that i you wanna it\n",
    "ANSWER:9\n",
    "\n",
    "arr[2:5]  ===> that`s will give you in the a number range,whereas (however) the number 5 is going to include.\n",
    "array[(6, 9, 12)]\n",
    "\n",
    "arr[:5]\n",
    "arr[2:]\n",
    "\n",
    "arr[2:] = 100  ???????????????\n",
    "\n",
    "--------------------------------------------------------------------------------------------------------------------\n",
    "\n",
    "arr = np.arange(50).reshape((5, 10))\n",
    "arr.shape\n",
    "arr2 = arr[:3]\n",
    "\n",
    "arr2[:] = 100 ???????????????????????\n",
    "\n",
    "arr2 = arr[:3].copy  ????????????????????????????????????????????\n",
    "\n",
    "---------------------------------------------------------------------------------------\n",
    "\n",
    "# ??????\n",
    "In [58]: arr\n",
    "Out[58]: array([989,   2,   3,   4,   5])\n",
    "\n",
    "# ???????????, ??? copy()\n",
    "In [59]: arr2 = arr[:3].copy()\n",
    "\n",
    "In [60]: arr2\n",
    "Out[60]: array([989,   2,   3])\n",
    "\n",
    "--------------------------------------------------------------------------------------------\n",
    "\n",
    "arr2 = arr.[1:4,5:] ??????????????????????????????????????????????????????????\n",
    "\n",
    "-----------------------------------------------------------------------\n",
    "\n",
    "arr > 50\n",
    "bol = arr > 50\n",
    "arr[bol]\n",
    "\n",
    "for example\n",
    "\n",
    "array = np.linspace(0, 100, 30)\n",
    "array.shape\n",
    "array = array.reshape(3, 10)\n",
    "array\n",
    "\n",
    "array[0:2, 2]\n",
    "\n",
    "-------------------------------------\n",
    "\n",
    "numpy operation\n",
    "\n",
    "arr = np.arange(0, 16)\n",
    "arr\n",
    "arr + arr or arr - arr\n",
    "arr / arr or arr ** arr\n",
    "arr + 100 or arr - 100\n",
    "\n",
    "np.sqrt(arr)\n",
    "np.exp\n",
    "np.mean\n",
    "np.std\n",
    "np.sin\n",
    "np.max\n",
    "np.min\n",
    "\n",
    "scipy.org\n",
    "\n",
    "--------------------------------------------------------------------------------------------------------------------\n",
    "\n",
    "\n",
    "\n",
    "\n",
    "\n",
    "\n",
    "\n",
    "Pandas\n",
    "\n",
    "import numpy as np\n",
    "import pandas as pd\n",
    "\n",
    "labels = ['a', 'b', 'c']\n",
    "\n",
    "minha_lista = [10, 20, 30]\n",
    "arr = np.array([10, 20, 30])\n",
    "--------------------------------------------------------------------------------------------------------------------\n",
    "\n",
    "d = {'a':10, 'b':20, 'c':30}\n",
    "\n",
    "Mix datas\n",
    "------------------------------------------------------------------------------------------------------------------\n",
    "\n",
    "minha_lista = [1, 2, 3]\n",
    "Answer: [1, 2, 3]\n",
    "\n",
    "\n",
    "np.array(minha_lista) --> array is code to turn your sequences at a matriz\n",
    "array([[1, 2, 3,]]}  ==> 1 linhas x 2\n",
    "\n",
    "-------------------------------------------------------------------------------------------------------------\n",
    "\n",
    "pd.Series(data=minha_lista, index=labels)\n",
    "Answer: a 10\n",
    "        b 20\n",
    "        c 30\t\t\n",
    "        dtype: int64\n",
    "\n",
    "-------------------------------------------------------------------------------------------------------------------\n",
    "\n",
    "series = pd.Series(data=minha_lista, index=labels)\n",
    "series['b']\n",
    "Answer: 20\n",
    "\n",
    "--------------------------------------------------------------------------------------------------------------------\n",
    "\n",
    "I HAVE TO DEFINE 'arr' FIRSTLY!!\n",
    "pd.Series(arr, labels)\n",
    "Answer: a 10\n",
    "        b 20\n",
    "        c 30\t\t\n",
    "        dtype: int64\n",
    "\n",
    "-----------------------------------------------------------------------------------------------------------------\n",
    "\n",
    "ser1 = pd.Series([1, 2, 3, 4],index=['EUA', 'Alemanha', 'URSS', 'Japao'])\n",
    "\n",
    "ser2 = pd.Series([1, 2, 3, 4], index=['Alemanha', 'EUA', 'Italia', 'Japao'])\n",
    "\n",
    "ser1 + ser2\n",
    "\n",
    "NaN\n",
    "\n",
    "-------------------------------------------------------------------------------------------------------------------\n",
    "\n",
    "import pandas as pd\n",
    "import numpy as np\n",
    "\n",
    "np.random.seed(101)    ?????????????????????????????????\n",
    "\n",
    "\n",
    "df = pd.DataFrame(randn[5, 4], index= 'A B C D E'. split(), columns='W X Y Z'.split())\n",
    "df\n",
    "\n",
    "df[`w`]\n",
    "type(df[`w`])\n",
    "\n",
    "-----------------------\n",
    "\n",
    "df[['W', 'Z']]\n",
    "Answer: you will get 2 chart\n",
    "\n",
    "-----------------------\n",
    "\n",
    "df['new'] = df['W'], df['X']\n",
    "df\n",
    "\n",
    "------------------------------\n",
    "\n",
    "df.drop['new', axis=1]\n",
    "\n",
    "---------------------------------\n",
    "\n",
    "df.drop('new', axis=1, inplace=True)\n",
    "\n",
    "--------------------------------\n",
    "\n",
    "df.loc['A']\n",
    "\n",
    "----------------------------------\n",
    "\n",
    "df.loc[['A', 'B'], ['X', 'Y', 'Z']]\n",
    "\n",
    "----------------------------------------\n",
    "\n",
    "df.iloc[1:4, 2:]\n",
    "\n",
    "\n",
    "---------------------------------------------------------------------------\n",
    "SELECAO CONDICIONAL, SET_INDEX\n",
    "\n",
    "import pandas as pd\n",
    "import numpy as np\n",
    "\n",
    "from numpy.random import random\n",
    "\n",
    "np.random.seed(101) ????????????????????????? the same numbers\n",
    "\n",
    "df = pd.DataFrame(np.random.randn(5,4), index='A B C D E'.split(), columns='W X Y Z'.split())\n",
    "\n",
    "df > 0 \n",
    "Answer: True or False (booleano number)\n",
    "\n",
    "-------------------------------------------------------------------------------------------------------------------\n",
    "\n",
    "bol = df > 0\n",
    "df[bol]\n",
    "\n",
    "\n",
    "df[['W', 'Z']]\n",
    "\n",
    "df['W'] or df.W\n",
    "\n",
    "---------------------------------------------------------------------------------------------------------------------\n",
    "\n",
    "df['new'] = df['W'] + df['X']\n",
    "\n",
    "df.drop('new', axis=1)\n",
    "df.drop('new', axis=1, inplace=True)\n",
    "\n",
    "--------------------------------------------------------------------------------------------------------------------\n",
    "\n",
    "df.loc['A', 'W']  ===> to help you to find the exact data.\n",
    "\n",
    "df.loc['A', 'B'], ['X', 'Y', 'Z']\n",
    "\n",
    "df.iloc[1:4, 2:]\n",
    "\n",
    "-------------------------------------------------------------------------------------------------------------------\n",
    "\n",
    "df[df['W']>0]\n",
    "\n",
    "df[df['W']>0]['Y']  ===> \n",
    "bol = df['W']>0\n",
    "df2 = df[bol]\n",
    "df2['Y']\n",
    "\n",
    "\n",
    "df[(df['W']>0) and(&) (df['Y']>1)]\n",
    "\n",
    "--------------------------------------------------------------------------------------------------------------------\n",
    "\n",
    "df\n",
    "df.reset_index()\n",
    "or\n",
    "df.reset_index(inplace=True)\n",
    "\n",
    "\n",
    "---------------------------------\n",
    "\n",
    "col = 'RS RJ SP AM SC'.split()\n",
    "df['Estado'] = col\n",
    "df\n",
    "\n",
    "----------------------------------------------------------------------------------------------------------\n",
    "\n",
    "\n",
    "\n",
    "\n",
    "\n",
    "INDICES MULTINIVEIS\n",
    "\n",
    "import numpy as np\n",
    "import pandas as pd\n",
    "\n",
    "outside = ['G1','G1','G1','G2','G2','G2']\n",
    "inside = [1,2,3,1,2,3]\n",
    "\n",
    "hier_index = list(zip(outside, inside))\n",
    "\n",
    "hier_index = pd.MultiIndex.from_tuples(hier_index)  ====> Object created\n",
    "\n",
    "\n",
    "df = pd.DataFrame(np.random.randn(6, 2), index=hier_index, columns=['A', 'B'])\n",
    "\n",
    "hier_index\n",
    "\n",
    "hier_index = pd.MultiIndex.from_tuples(hier_index)\n",
    "\n",
    "df.index.names = ['Grupo', 'Numeros']\n",
    "\n",
    "df.xs(1)\n",
    "\n",
    "df.xs(1, level='Numero')\n",
    "\n",
    "\n",
    "----------------------------------------------------------------------------------------------------------------\n",
    "\n",
    "DADOS AUSENTES\n",
    "\n",
    "import numpy as np\n",
    "import pandas as pd\n",
    "\n",
    "d = {'A':[1, 2, np.nan], 'B':[5, np.nan, np.nan], 'C':[1, 2, 3]} ===> dictionary!!!!\n",
    "d\n",
    "\n",
    "df = pd.DataFrame(d)\n",
    "\n",
    "df.dropna ==> take out NaN datas\n",
    "\n",
    "df.dropna(thresh=2)\n",
    "\n",
    "df.fillna(value='Fill na')\n",
    "\n",
    "df['A'].fillna(value=df['A'].mean())\n",
    "\n",
    "df.fillna(method='ffill')\n",
    "\n",
    "\n",
    "---------------------------------------------------------\n",
    "\n",
    "Group By\n",
    "\n",
    "import pandas as pd\n",
    "data = {['Empresa':['GOOG','GOOG','MSFT','MSFT','FB','FB'], 'Nome':['Sam', 'Charlie','Amy', 'Vanessa', 'Carl', 'Sarah'], 'Venda':[200,120,340,124,243,350]}\n",
    "\n",
    "df = pd.DataFrame(data)\n",
    "\n",
    "group = df.groupby('Empresa')\n",
    "\n",
    "group\n",
    "\n",
    "group.sum()\n",
    "group.mean()\n",
    "group.describe()\n",
    "\n",
    "-------------------------------------------------------------------------------------\n",
    "\n",
    "CONCATENAR, JUNTAR E MESCLAR\n",
    "\n",
    "import pandas as pd\n",
    "\n",
    "df1 = pd.DataFrame({'A':['A0', 'A1', 'A2', 'A3'], 'B':['B0', 'B1', 'B2', 'B3'], 'C':['C0', 'C1', 'C2', 'C3'], 'D':['D0', 'D1', 'D2', 'D3']}, index=[0, 1, 2, 3])\n",
    "\n",
    "\n",
    "df2 = pd.DataFrame({'A':['A0', 'A1', 'A2', 'A3'], 'B':['B0', 'B1', 'B2', 'B3'], 'C':['C0', 'C1', 'C2', 'C3'], 'D':['D0', 'D1', 'D2', 'D3']}, index=[0, 1, 2, 3])\t\t\t\t\t\t\t\n",
    "\n",
    "\n",
    "pd.concat([df1, df2])\n",
    "\n",
    "pd.concat([df1, df2], axis=1)\n",
    "\n",
    "pd.merge(esquerda, direita, how='inner', on='key')\n",
    "or\n",
    "pd.merge(esquerda, direita, on=['key1', 'key2'])\n",
    "\n",
    "TRYING TO SEE THE EXAMPLES IN THE VIDEO AGAIN.\n",
    "----------------------------------------------------------------\n",
    "\n",
    "OPERACAOES\n",
    "\n",
    "import pandas as pd\n",
    "df = pd.DataFrame({'col1':[dsdada\n",
    "\n",
    "df['col2'].unique()\n",
    "\n",
    "\n",
    "import numpy as np\n",
    "np.unique(df['col2'])\n",
    "\n",
    "len(df['col2'])\n",
    "\n",
    "df['col2'].nunique()\n",
    "\n",
    "df['col2'].value_counts()\n",
    "\n",
    "df[df['col1']>2] & ()]\n",
    "\n",
    "-------------------------------------------------------------------------------------------------------\n",
    "\n",
    "\n",
    "ENTRADA E SAIDA DE DADOS\n",
    "\n",
    "\n",
    "import numpy as np\n",
    "import pabdas as pd\n",
    "\n",
    "df = pd.read_csv or html\n",
    "\n",
    "df =pd.read_csv('exemplo', sep='')\n",
    "\n",
    "df.to_csv(\"exemplo.csv\", sep=';', decimal=',')   ===> save the filed\n",
    "\n",
    "df = pd.read_excel(\"Exemplo_Excel.xlsx\", sheetname='Sheet1')\n",
    "\n",
    "df = pd.read_html('xxxxx')\n",
    "\n",
    "\n",
    "\n",
    "\n",
    "\n",
    "\n",
    "\n",
    "\n",
    "----------------------------------------------------------------------------------------------\n",
    "\n",
    "import matplotlib.pyplot as plt\n",
    "\n",
    "%matplotlib inline --> the function to this code is improve the visualization\n",
    "\n",
    "import numpy as np\n",
    "\n",
    "x = np.linspace(0, 5, 11) --> linspace is a code that it introduces the sequence of number that i want it, for instance\n",
    "linspace(start =, stop =, num=)\n",
    "\n",
    "x = np.lispace(0, 5, 11)\n",
    "\n",
    "x\n",
    "\n",
    "y = x * x\n",
    "\n",
    "----------------------------------------------------------------------------------------------------\n",
    "\n",
    "#Funcional\n",
    "plt.plot(x, y) --> Shifting the graphic plt.plot(x, y, color='r' or 'r--') --> this is come MatLab code\n",
    "plt.xlabel('Eixo X')\n",
    "plt.xlavel('Eixo Y')\n",
    "plt.title('Titulo')\n",
    "\n",
    "or\n",
    "\n",
    "#Funcional\n",
    "plt.plot(x, y)\n",
    "plt.show()\n",
    "plt.xlabel('Eixo X')\n",
    "plt.xlavel('Eixo Y')\n",
    "plt.title('Titulo')\n",
    "--> We use this code, when we forget writting this code \"%matplotlib inline\"\n",
    "\n",
    "--------------------------------------------------------------------------------------------\n",
    "\n",
    "plt.subplots(nrows=1, ncols=2)\n",
    "\n",
    "or\n",
    "\n",
    "plt.subplot(1, 2, 1)\n",
    "plt.plot(x, y, 'r--')\n",
    "plt.subplot(1, 2, 1)\n",
    "plt.plot(y, x, 'r--')\n",
    "\n",
    "\n",
    "\n",
    "-------------------------------------------------------------------------------------------------------\n",
    "\n",
    "\n",
    "Python Introduction\n",
    "\n",
    "#message\n",
    "# -*- coding: utf-8 -*-\n",
    "print('Hello')\n",
    "\n",
    "# print is commando when you wanna print some code\n",
    "\n",
    "print(2 +,-,...)\n",
    "\n",
    "Sintax\n",
    "\n",
    "= operator atribuition\n",
    "int\n",
    "string ( tect)\n",
    "bol (booleana) true or false\n",
    "1.1 float\n",
    "\n",
    "x = \"string\" text with \"\n",
    "\n",
    "if\n",
    "\n",
    "x = 10\n",
    "y = 20\n",
    "\n",
    "if x < y:\n",
    "print('vc esta cert')\n",
    "else:\n",
    "print( vc esta errado)\n",
    "\n",
    "\n",
    "\n",
    "a = 7\n",
    "b = 6\n",
    "\n",
    "if b > a:\n",
    "\tif b > 0:\n",
    "\t\tprint(\"b e maior do que a\\nb e positivo\")\n",
    "\telse:\n",
    "\t\tprint(\"b nao e maior que a nem positivo\")\n",
    "\n",
    "else:\n",
    "\tprint(\"b menor que a\")\n",
    "\n",
    "----------------------------------------------------------------\n",
    "\n",
    "x = 1\n",
    "y = 2\n",
    "\n",
    "if x == y:\n",
    "\tprint(\"numeros iguais\")\n",
    "elif y > x:\n",
    "\tprint(\"x menor que y\")\n",
    "else:\n",
    "\tprint(\"numero diferentes\")\n",
    "\n",
    "--------------------------------------------------------------------\n",
    "loop\n",
    "\n",
    "x = 1\n",
    "\n",
    "while x < 10:\n",
    "\tprint(x):\n",
    "\tx = x+1\n",
    "\n",
    "--------------------------------------------------------------------\n",
    " LISTA (for)\n",
    "\n",
    "\n",
    "list1 = [1, 2, 3, 4, 5, 6]\n",
    "list2 = [\"hello\", \"z\", \"ds\"]\n",
    "\n",
    "for i in list1:\n",
    "\tprint(i)\n",
    "1\n",
    "2\n",
    "3\n",
    "4\n",
    "5\n",
    "6\n",
    "\n",
    "or \n",
    "\n",
    "hello\n",
    "z\n",
    "ds\n",
    "\n",
    "\n",
    "for i in range(10, 20, 2):\n",
    "\tprint(i)\n",
    "\n",
    "10\n",
    "12\n",
    "14\n",
    "16\n",
    "18\n",
    "\n",
    "------------------------------------------------\n",
    "INPUT\n",
    "\n",
    "numero = input(\"Digite um numero:\")\n",
    "print(\"o numero digitado e:\")\n",
    "print(numero)\n",
    "\n",
    "------------------------------------------------------------------------------\n",
    "FUNCTION\n",
    "\n",
    "def soma(x, y):\n",
    "\tprint(x, y)\n",
    "\n",
    "soma(2, 2)\n",
    "\n",
    "----------------------------------------------------------------------------------\n",
    "RETURN\n",
    "\n",
    "def soma(x, y):\n",
    "\treturn x+y\n",
    "\n",
    "s = soma(2, 3):\n",
    "print(s)\n",
    "\n",
    "------------------------------------------------\n",
    "CONCATENACAO\n",
    "\n",
    "a = \"zhang\"\n",
    "b = \"yuan\"\n",
    "\n",
    "z = a + \"\" + b\n",
    "print(z)\n",
    "\n",
    "\n",
    "tamanho = len(concatenar)\n",
    "print(tamanho)\n",
    "Answer: it will give you the amount numbers that i you have.\n",
    "\n",
    "\n",
    "a = \"Diego\"\n",
    "b = \"Mariana\"\n",
    "\n",
    "concatenar = a + \" \" + b\n",
    "\n",
    "print(a[2])\n",
    "print((a[2:]).lower()) --> minusculo\t\n",
    "print((a[2:]).upper()) --> maiusculo\n",
    "\n",
    "\n",
    "strip\n",
    "split\n",
    "\n",
    "---------------------------------\n",
    "\n",
    "\n",
    "{} servem para criar/referenciar objetos\n",
    "[] servem para criar/referenciar arrays\n",
    "\n",
    "data = pd.DataFrame(dic)\n",
    "you write this code when you want to see the tables,\n",
    "\n",
    "----------------------------------------------------------------\n",
    "\n",
    "\n",
    "df = pd.read_html('https://www.fdic.gov/bank/individual/failed/banklist.html')\n",
    "df\n",
    "df = df[0]\n",
    "data = pd.DataFrame(df)\n",
    "\n",
    "data.set_index('City', inplace=True)\n",
    "\n",
    "\n",
    "\n",
    "GitHub\n",
    "\n",
    "import pandas as pd\n",
    "import numpy as np\n",
    "\n",
    "\n",
    "A = pd.DataFrame({'a':[4,5,6],'b':[8,6,4]}, index=[234,2352,1231])\n",
    "test1 = pd.DataFrame([[4,7,8],[2,3,5],[6,8,12]], index=[234,423,123], columns=['a','d','s'])\n",
    "\n",
    "test2 = pd.DataFrame({'a':[4, 5, 6],'b':[8, 6, 4],'c':[8, 6, 4]}, index=pd.MultiIndex.from_tuples([('d',1),('d',2),('s',4)], names=['d','x']))\n",
    "\n",
    "df = pd.melt(A, id_vars=['a'], var_name='city', value_name='temperature')\n",
    "\n",
    "df = pd.melt(A, id_vars=['a'], var_name='city', value_name='temperature')\n",
    "df.set_index('a', inplace=True) \n",
    "\n",
    "df = pd.melt(test1)\n",
    "\n",
    "\n",
    "A = pd.DataFrame({'a':[4,5,6],'b':[8,6,4],'c':[8,6,4]}, index=[77,88,99])\n",
    "\n",
    "B = pd.DataFrame({'a':[4123,5123,6123],'b':[8231,6232,4123],'c':[8123,643,423]}, index=[11,44,33])\n",
    "\n",
    "df = pd.concat([A, B], keys=['wagner', 'Luiz'])\n",
    "\n",
    "df.loc['Luiz']\n",
    "df = pd.concat([A, B], keys=['wagner', 'Luiz'], axis=1)\n",
    "\n",
    "\n",
    "\n",
    "\n",
    "df.drop(['B', 'C'], axis=1)\n",
    "\n",
    "df.drop(columns=['B', 'C']\n",
    "\n",
    "\n",
    "My Job (my First Project)!!!\n",
    "\n",
    "\n",
    "data.drop(data.index[0], inplace=True)\n",
    "\n",
    "\n",
    "\n",
    "\n",
    "\n",
    "\n"
   ]
  },
  {
   "cell_type": "code",
   "execution_count": null,
   "metadata": {},
   "outputs": [],
   "source": []
  },
  {
   "cell_type": "code",
   "execution_count": null,
   "metadata": {},
   "outputs": [],
   "source": []
  },
  {
   "cell_type": "code",
   "execution_count": null,
   "metadata": {},
   "outputs": [],
   "source": []
  },
  {
   "cell_type": "code",
   "execution_count": 18,
   "metadata": {},
   "outputs": [
    {
     "data": {
      "text/plain": [
       "array([[1., 0., 0.],\n",
       "       [0., 1., 0.],\n",
       "       [0., 0., 1.]])"
      ]
     },
     "execution_count": 18,
     "metadata": {},
     "output_type": "execute_result"
    }
   ],
   "source": [
    "np.eye(3) #matriz identify"
   ]
  },
  {
   "cell_type": "code",
   "execution_count": 19,
   "metadata": {},
   "outputs": [
    {
     "data": {
      "text/plain": [
       "array([0.  , 0.01, 0.02, 0.03, 0.04, 0.05, 0.06, 0.07, 0.08, 0.09, 0.1 ,\n",
       "       0.11, 0.12, 0.13, 0.14, 0.15, 0.16, 0.17, 0.18, 0.19, 0.2 , 0.21,\n",
       "       0.22, 0.23, 0.24, 0.25, 0.26, 0.27, 0.28, 0.29, 0.3 , 0.31, 0.32,\n",
       "       0.33, 0.34, 0.35, 0.36, 0.37, 0.38, 0.39, 0.4 , 0.41, 0.42, 0.43,\n",
       "       0.44, 0.45, 0.46, 0.47, 0.48, 0.49, 0.5 , 0.51, 0.52, 0.53, 0.54,\n",
       "       0.55, 0.56, 0.57, 0.58, 0.59, 0.6 , 0.61, 0.62, 0.63, 0.64, 0.65,\n",
       "       0.66, 0.67, 0.68, 0.69, 0.7 , 0.71, 0.72, 0.73, 0.74, 0.75, 0.76,\n",
       "       0.77, 0.78, 0.79, 0.8 , 0.81, 0.82, 0.83, 0.84, 0.85, 0.86, 0.87,\n",
       "       0.88, 0.89, 0.9 , 0.91, 0.92, 0.93, 0.94, 0.95, 0.96, 0.97, 0.98,\n",
       "       0.99, 1.  ])"
      ]
     },
     "execution_count": 19,
     "metadata": {},
     "output_type": "execute_result"
    }
   ],
   "source": [
    "np.arange(0,101)/100"
   ]
  },
  {
   "cell_type": "code",
   "execution_count": 42,
   "metadata": {},
   "outputs": [],
   "source": [
    "g = np.random.rand(25)"
   ]
  },
  {
   "cell_type": "code",
   "execution_count": 43,
   "metadata": {},
   "outputs": [
    {
     "name": "stdout",
     "output_type": "stream",
     "text": [
      "\n",
      " [0.75459102 0.14381742 0.95953353 0.36729533 0.80169177 0.87099375\n",
      " 0.56635914 0.66663352 0.56521545 0.54928085 0.40947176 0.76716401\n",
      " 0.73769485 0.73183304 0.13546818 0.39389467 0.01824635 0.33927861\n",
      " 0.42756658 0.10580829 0.08220054 0.15580343 0.07749379 0.94174534\n",
      " 0.43243546]\n"
     ]
    }
   ],
   "source": [
    "print (\"\\n\", g)"
   ]
  },
  {
   "cell_type": "code",
   "execution_count": 44,
   "metadata": {},
   "outputs": [
    {
     "name": "stdout",
     "output_type": "stream",
     "text": [
      "\n",
      " [[1. 2. 4.]\n",
      " [5. 8. 7.]]\n"
     ]
    }
   ],
   "source": [
    "a = np.array([[1, 2, 4], [5, 8, 7]], dtype = 'float') \n",
    "print (\"\\n\", a)"
   ]
  },
  {
   "cell_type": "code",
   "execution_count": null,
   "metadata": {},
   "outputs": [],
   "source": []
  },
  {
   "cell_type": "code",
   "execution_count": null,
   "metadata": {},
   "outputs": [],
   "source": []
  },
  {
   "cell_type": "code",
   "execution_count": null,
   "metadata": {},
   "outputs": [],
   "source": []
  },
  {
   "cell_type": "code",
   "execution_count": 21,
   "metadata": {},
   "outputs": [
    {
     "data": {
      "text/plain": [
       "array([0.        , 0.05263158, 0.10526316, 0.15789474, 0.21052632,\n",
       "       0.26315789, 0.31578947, 0.36842105, 0.42105263, 0.47368421,\n",
       "       0.52631579, 0.57894737, 0.63157895, 0.68421053, 0.73684211,\n",
       "       0.78947368, 0.84210526, 0.89473684, 0.94736842, 1.        ])"
      ]
     },
     "execution_count": 21,
     "metadata": {},
     "output_type": "execute_result"
    }
   ],
   "source": [
    "np.linspace(0,1,20)"
   ]
  },
  {
   "cell_type": "code",
   "execution_count": 22,
   "metadata": {},
   "outputs": [
    {
     "data": {
      "text/plain": [
       "array([0., 5.])"
      ]
     },
     "execution_count": 22,
     "metadata": {},
     "output_type": "execute_result"
    }
   ],
   "source": [
    "np.linspace(0,5,2)"
   ]
  },
  {
   "cell_type": "code",
   "execution_count": null,
   "metadata": {},
   "outputs": [],
   "source": []
  },
  {
   "cell_type": "code",
   "execution_count": null,
   "metadata": {},
   "outputs": [],
   "source": []
  },
  {
   "cell_type": "code",
   "execution_count": null,
   "metadata": {},
   "outputs": [],
   "source": []
  },
  {
   "cell_type": "code",
   "execution_count": 12,
   "metadata": {},
   "outputs": [],
   "source": [
    "b = np.arange(1,26).reshape(5,5)"
   ]
  },
  {
   "cell_type": "code",
   "execution_count": 13,
   "metadata": {},
   "outputs": [
    {
     "data": {
      "text/plain": [
       "array([[ 1,  2,  3,  4,  5],\n",
       "       [ 6,  7,  8,  9, 10],\n",
       "       [11, 12, 13, 14, 15],\n",
       "       [16, 17, 18, 19, 20],\n",
       "       [21, 22, 23, 24, 25]])"
      ]
     },
     "execution_count": 13,
     "metadata": {},
     "output_type": "execute_result"
    }
   ],
   "source": [
    "b"
   ]
  },
  {
   "cell_type": "code",
   "execution_count": 14,
   "metadata": {},
   "outputs": [
    {
     "name": "stdout",
     "output_type": "stream",
     "text": [
      "(5, 5)\n"
     ]
    }
   ],
   "source": [
    "print(b.shape)"
   ]
  },
  {
   "cell_type": "code",
   "execution_count": 15,
   "metadata": {},
   "outputs": [
    {
     "name": "stdout",
     "output_type": "stream",
     "text": [
      "Array Dimension =  2\n"
     ]
    }
   ],
   "source": [
    "print(\"Array Dimension = \",len(b.shape))"
   ]
  },
  {
   "cell_type": "code",
   "execution_count": 16,
   "metadata": {},
   "outputs": [
    {
     "data": {
      "text/plain": [
       "array([[12, 13, 14, 15],\n",
       "       [17, 18, 19, 20],\n",
       "       [22, 23, 24, 25]])"
      ]
     },
     "execution_count": 16,
     "metadata": {},
     "output_type": "execute_result"
    }
   ],
   "source": [
    "b[2:,1:]"
   ]
  },
  {
   "cell_type": "code",
   "execution_count": 17,
   "metadata": {},
   "outputs": [
    {
     "data": {
      "text/plain": [
       "array([[17, 18, 19, 20],\n",
       "       [22, 23, 24, 25]])"
      ]
     },
     "execution_count": 17,
     "metadata": {},
     "output_type": "execute_result"
    }
   ],
   "source": [
    "b[3:,1:]"
   ]
  },
  {
   "cell_type": "code",
   "execution_count": 18,
   "metadata": {},
   "outputs": [
    {
     "data": {
      "text/plain": [
       "array([[18, 19, 20],\n",
       "       [23, 24, 25]])"
      ]
     },
     "execution_count": 18,
     "metadata": {},
     "output_type": "execute_result"
    }
   ],
   "source": [
    "b[3:,2:]"
   ]
  },
  {
   "cell_type": "code",
   "execution_count": null,
   "metadata": {},
   "outputs": [],
   "source": []
  },
  {
   "cell_type": "code",
   "execution_count": null,
   "metadata": {},
   "outputs": [],
   "source": []
  },
  {
   "cell_type": "code",
   "execution_count": null,
   "metadata": {},
   "outputs": [],
   "source": []
  },
  {
   "cell_type": "code",
   "execution_count": 19,
   "metadata": {},
   "outputs": [
    {
     "data": {
      "text/plain": [
       "array([[ 6,  7,  8,  9, 10],\n",
       "       [11, 12, 13, 14, 15],\n",
       "       [16, 17, 18, 19, 20],\n",
       "       [21, 22, 23, 24, 25]])"
      ]
     },
     "execution_count": 19,
     "metadata": {},
     "output_type": "execute_result"
    }
   ],
   "source": [
    "b[1:5]"
   ]
  },
  {
   "cell_type": "code",
   "execution_count": 20,
   "metadata": {},
   "outputs": [
    {
     "data": {
      "text/plain": [
       "array([[ 1,  2,  3,  4,  5],\n",
       "       [ 6,  7,  8,  9, 10],\n",
       "       [11, 12, 13, 14, 15],\n",
       "       [16, 17, 18, 19, 20],\n",
       "       [21, 22, 23, 24, 25]])"
      ]
     },
     "execution_count": 20,
     "metadata": {},
     "output_type": "execute_result"
    }
   ],
   "source": [
    "b[0:5]"
   ]
  },
  {
   "cell_type": "code",
   "execution_count": 22,
   "metadata": {},
   "outputs": [
    {
     "data": {
      "text/plain": [
       "()"
      ]
     },
     "execution_count": 22,
     "metadata": {},
     "output_type": "execute_result"
    }
   ],
   "source": [
    "b[3,4].shape"
   ]
  },
  {
   "cell_type": "code",
   "execution_count": 23,
   "metadata": {},
   "outputs": [
    {
     "data": {
      "text/plain": [
       "(3,)"
      ]
     },
     "execution_count": 23,
     "metadata": {},
     "output_type": "execute_result"
    }
   ],
   "source": [
    "b[:3,1].shape"
   ]
  },
  {
   "cell_type": "code",
   "execution_count": 24,
   "metadata": {},
   "outputs": [
    {
     "ename": "NameError",
     "evalue": "name 'shape' is not defined",
     "output_type": "error",
     "traceback": [
      "\u001b[1;31m---------------------------------------------------------------------------\u001b[0m",
      "\u001b[1;31mNameError\u001b[0m                                 Traceback (most recent call last)",
      "\u001b[1;32m<ipython-input-24-3e2e5a43b115>\u001b[0m in \u001b[0;36m<module>\u001b[1;34m\u001b[0m\n\u001b[1;32m----> 1\u001b[1;33m \u001b[0mb\u001b[0m\u001b[1;33m[\u001b[0m\u001b[1;33m:\u001b[0m\u001b[1;36m3\u001b[0m\u001b[1;33m,\u001b[0m\u001b[1;36m1\u001b[0m\u001b[1;33m:\u001b[0m\u001b[1;36m2\u001b[0m\u001b[1;33m]\u001b[0m\u001b[1;33m/\u001b[0m\u001b[0mshape\u001b[0m\u001b[1;33m\u001b[0m\u001b[1;33m\u001b[0m\u001b[0m\n\u001b[0m",
      "\u001b[1;31mNameError\u001b[0m: name 'shape' is not defined"
     ]
    }
   ],
   "source": [
    "b[:3,1:2]/shape"
   ]
  },
  {
   "cell_type": "code",
   "execution_count": null,
   "metadata": {},
   "outputs": [],
   "source": [
    "b[-1,:]"
   ]
  },
  {
   "cell_type": "code",
   "execution_count": 26,
   "metadata": {},
   "outputs": [
    {
     "ename": "IndexError",
     "evalue": "too many indices for array: array is 0-dimensional, but 2 were indexed",
     "output_type": "error",
     "traceback": [
      "\u001b[1;31m---------------------------------------------------------------------------\u001b[0m",
      "\u001b[1;31mIndexError\u001b[0m                                Traceback (most recent call last)",
      "\u001b[1;32m<ipython-input-26-7e46cb20f660>\u001b[0m in \u001b[0;36m<module>\u001b[1;34m\u001b[0m\n\u001b[1;32m----> 1\u001b[1;33m \u001b[0mb\u001b[0m\u001b[1;33m[\u001b[0m\u001b[1;36m2\u001b[0m\u001b[1;33m:\u001b[0m\u001b[1;33m,\u001b[0m\u001b[1;36m1\u001b[0m\u001b[1;33m:\u001b[0m\u001b[1;33m]\u001b[0m\u001b[1;33m\u001b[0m\u001b[1;33m\u001b[0m\u001b[0m\n\u001b[0m",
      "\u001b[1;31mIndexError\u001b[0m: too many indices for array: array is 0-dimensional, but 2 were indexed"
     ]
    }
   ],
   "source": [
    "b[2:,1:]"
   ]
  },
  {
   "cell_type": "code",
   "execution_count": null,
   "metadata": {},
   "outputs": [],
   "source": []
  },
  {
   "cell_type": "code",
   "execution_count": null,
   "metadata": {},
   "outputs": [],
   "source": [
    "y1 = infra['transm'].to_numpy()"
   ]
  },
  {
   "cell_type": "code",
   "execution_count": null,
   "metadata": {},
   "outputs": [],
   "source": [
    "q = pd.to_numeric(i, errors='coerce')"
   ]
  },
  {
   "cell_type": "code",
   "execution_count": null,
   "metadata": {},
   "outputs": [],
   "source": [
    "np.sum(mat)\n",
    "mat.sum()\n",
    "np.std(mat) #std -> desvio padrao\n",
    "mat.sum(axis=0)\n",
    "mat.sum(axis=1)\n",
    "mat.sum(axis=0)"
   ]
  }
 ],
 "metadata": {
  "kernelspec": {
   "display_name": "Python 3",
   "language": "python",
   "name": "python3"
  },
  "language_info": {
   "codemirror_mode": {
    "name": "ipython",
    "version": 3
   },
   "file_extension": ".py",
   "mimetype": "text/x-python",
   "name": "python",
   "nbconvert_exporter": "python",
   "pygments_lexer": "ipython3",
   "version": "3.8.3"
  }
 },
 "nbformat": 4,
 "nbformat_minor": 4
}
