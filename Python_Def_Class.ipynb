{
 "cells": [
  {
   "cell_type": "code",
   "execution_count": 2,
   "metadata": {},
   "outputs": [],
   "source": [
    "import pandas as pd\n",
    "import numpy as np"
   ]
  },
  {
   "cell_type": "code",
   "execution_count": 4,
   "metadata": {},
   "outputs": [],
   "source": [
    "def object(name,race,age):\n",
    "    if name == 'zhang' and race == 'chinese' and age == 30:\n",
    "        print ('True')\n",
    "\n",
    "    else:\n",
    "        print ('False')\n",
    "       #return"
   ]
  },
  {
   "cell_type": "code",
   "execution_count": 5,
   "metadata": {},
   "outputs": [
    {
     "name": "stdout",
     "output_type": "stream",
     "text": [
      "True\n"
     ]
    }
   ],
   "source": [
    "object('zhang','chinese',30)"
   ]
  },
  {
   "cell_type": "code",
   "execution_count": 6,
   "metadata": {},
   "outputs": [],
   "source": [
    "def object(name1,race,age,weight,height):\n",
    "    \n",
    "    if name1 == 'zhang' and race == 'chinese' and age == 30 and weight == 85 and height == float(1.78):\n",
    "        print ('True')\n",
    "        \n",
    "    if race == 'chinese':\n",
    "        print ('You are right')\n",
    "        \n",
    "    if age == 30:\n",
    "        print ('You are okay')\n",
    "        \n",
    "    if weight == 85:\n",
    "        print ('Yes')\n",
    "        \n",
    "    if height == float(1.78):\n",
    "        print ('Everything all right')\n",
    "    \n",
    "    else:\n",
    "        print ('False')\n",
    "       #return"
   ]
  },
  {
   "cell_type": "code",
   "execution_count": 7,
   "metadata": {},
   "outputs": [
    {
     "name": "stdout",
     "output_type": "stream",
     "text": [
      "True\n",
      "You are right\n",
      "You are okay\n",
      "Yes\n",
      "Everything all right\n"
     ]
    }
   ],
   "source": [
    "object('zhang','chinese',30,85,1.78)"
   ]
  },
  {
   "cell_type": "code",
   "execution_count": 8,
   "metadata": {},
   "outputs": [],
   "source": [
    "def tempo_estudo(horas,dedicacao):\n",
    "    \n",
    "    minut = float(horas)\n",
    "    x = float(dedicacao)\n",
    "    \n",
    "    if horas + dedicacao >= 10:\n",
    "        return 'You are in the way'\n",
    "    \n",
    "    if horas + dedicacao == 5:\n",
    "        return 'You are average person'\n",
    "    \n",
    "    else:\n",
    "        return \"you are fucked it\""
   ]
  },
  {
   "cell_type": "code",
   "execution_count": 9,
   "metadata": {},
   "outputs": [
    {
     "data": {
      "text/plain": [
       "'You are in the way'"
      ]
     },
     "execution_count": 9,
     "metadata": {},
     "output_type": "execute_result"
    }
   ],
   "source": [
    "tempo_estudo(5.0,5.5)"
   ]
  },
  {
   "cell_type": "code",
   "execution_count": 10,
   "metadata": {},
   "outputs": [],
   "source": [
    "class Chinese():\n",
    "    \n",
    "    def __init__(self,name,age,weight,height):\n",
    "        self.name = name\n",
    "        self.age = age\n",
    "        self.weight = weight\n",
    "        self.height = height\n",
    "        print ('It`s done')\n",
    "        \n",
    "    def speech(self,disc1,disc2):\n",
    "        self.disc1 = disc1\n",
    "        self.disc2 = disc2\n",
    "        return 'Wagner vai ser pai'\n",
    "    \n",
    "    \n",
    "    def action(self,act1,act2):\n",
    "        self.act1 = act1\n",
    "        self.act2 = act2\n",
    "        return"
   ]
  },
  {
   "cell_type": "code",
   "execution_count": 11,
   "metadata": {},
   "outputs": [
    {
     "name": "stdout",
     "output_type": "stream",
     "text": [
      "It`s done\n"
     ]
    },
    {
     "data": {
      "text/plain": [
       "<__main__.Chinese at 0x1b60f728fd0>"
      ]
     },
     "execution_count": 11,
     "metadata": {},
     "output_type": "execute_result"
    }
   ],
   "source": [
    "Chinese('zhang',30,83,178)"
   ]
  },
  {
   "cell_type": "code",
   "execution_count": 14,
   "metadata": {},
   "outputs": [
    {
     "name": "stdout",
     "output_type": "stream",
     "text": [
      "It`s done\n"
     ]
    }
   ],
   "source": [
    "a = Chinese('zhang',30,83,178)"
   ]
  },
  {
   "cell_type": "code",
   "execution_count": 15,
   "metadata": {},
   "outputs": [
    {
     "data": {
      "text/plain": [
       "'Wagner vai ser pai'"
      ]
     },
     "execution_count": 15,
     "metadata": {},
     "output_type": "execute_result"
    }
   ],
   "source": [
    "a.speech(2,3)"
   ]
  },
  {
   "cell_type": "code",
   "execution_count": 12,
   "metadata": {},
   "outputs": [
    {
     "name": "stdout",
     "output_type": "stream",
     "text": [
      "It`s done\n",
      "Well done! zhang\n"
     ]
    }
   ],
   "source": [
    "class chinese():\n",
    "    \n",
    "    def __init__(self,name,age):\n",
    "        self.name = name\n",
    "        self.age = age\n",
    "        print ('It`s done')\n",
    "        \n",
    "    def speak(self):\n",
    "        print ('Well done!', self.name)\n",
    "        \n",
    "china = chinese('zhang', 30)\n",
    "china.speak()"
   ]
  },
  {
   "cell_type": "code",
   "execution_count": null,
   "metadata": {},
   "outputs": [],
   "source": [
    "class carro():\n",
    "    def __init__(self,price,color):\n",
    "        self.price = price\n",
    "        self.color = color\n",
    "        self.gas = 0\n",
    "        print ('carro comprado')\n",
    "        \n",
    "    def cheio(self):\n",
    "        self.gas = 100\n",
    "        print ('carro cheio')\n",
    "        \n",
    "    def vazio(self):\n",
    "        self.gas = 0\n",
    "        print ('carro vazio')\n",
    "        \n",
    "    def deixado(self):\n",
    "        return self.gas\n",
    "    \n",
    "class truck(carro):\n",
    "    def __init__ (self,price,color,tires):\n",
    "        super().__init__(price,color)\n",
    "        self.tires = tires\n",
    "        print ('Truck')\n",
    "        \n",
    "    def beep(self):\n",
    "        print ('Beep')"
   ]
  },
  {
   "cell_type": "code",
   "execution_count": null,
   "metadata": {},
   "outputs": [],
   "source": [
    "class parent:\n",
    "    def __init__(self,name):\n",
    "        print('parent')\n",
    "        \n",
    "class child(parent):\n",
    "    def __init__(self):\n",
    "        print('child')\n",
    "        super().__init__('zhang')"
   ]
  },
  {
   "cell_type": "code",
   "execution_count": 16,
   "metadata": {},
   "outputs": [],
   "source": [
    "class myclass():\n",
    "    def __init__(self):\n",
    "        self.x = x\n",
    "        \n",
    "    #@staticmethod\n",
    "    @classmethod #(at least one variable)\n",
    "    def staticmethod(variable):\n",
    "        print('@staticmethod = no self')\n",
    "        return"
   ]
  },
  {
   "cell_type": "code",
   "execution_count": 17,
   "metadata": {},
   "outputs": [],
   "source": [
    "zhang = myclass"
   ]
  },
  {
   "cell_type": "code",
   "execution_count": 18,
   "metadata": {},
   "outputs": [
    {
     "name": "stdout",
     "output_type": "stream",
     "text": [
      "@staticmethod = no self\n"
     ]
    }
   ],
   "source": [
    "zhang.staticmethod()"
   ]
  },
  {
   "cell_type": "code",
   "execution_count": null,
   "metadata": {},
   "outputs": [],
   "source": []
  },
  {
   "cell_type": "code",
   "execution_count": 1,
   "metadata": {},
   "outputs": [
    {
     "name": "stdout",
     "output_type": "stream",
     "text": [
      "0\n",
      "1\n",
      "2\n",
      "3\n",
      "4\n",
      "5\n",
      "6\n",
      "7\n",
      "8\n",
      "9\n"
     ]
    }
   ],
   "source": [
    "for item in range (10):\n",
    "    print(item)"
   ]
  },
  {
   "cell_type": "code",
   "execution_count": 3,
   "metadata": {},
   "outputs": [
    {
     "name": "stdout",
     "output_type": "stream",
     "text": [
      "foo\n",
      "bar\n",
      "baz\n"
     ]
    }
   ],
   "source": [
    "a = ['foo', 'bar', 'baz']\n",
    "for i in a:\n",
    "    print(i)"
   ]
  },
  {
   "cell_type": "code",
   "execution_count": null,
   "metadata": {},
   "outputs": [],
   "source": [
    "a = [1,2,3,4,5,6,5,4,3,2,1]\n",
    "b = [2 * (7 - i) + 'very' * i for i in a]\n",
    "for line in b:\n",
    "    print(line)"
   ]
  },
  {
   "cell_type": "code",
   "execution_count": 5,
   "metadata": {},
   "outputs": [
    {
     "name": "stdout",
     "output_type": "stream",
     "text": [
      "1\n",
      "2\n",
      "3\n",
      "4\n",
      "5\n",
      "6\n",
      "7\n",
      "8\n",
      "9\n",
      "10\n"
     ]
    }
   ],
   "source": [
    "a = 0\n",
    "while a < 10:\n",
    "    a = a + 1\n",
    "    print(a)\n",
    "\n",
    "# a is equal zero, and if a lesser than 10, print a = a + 1\n",
    "# a é igual a zero, e se a menor do que 10, print a = a + 1"
   ]
  },
  {
   "cell_type": "code",
   "execution_count": null,
   "metadata": {},
   "outputs": [],
   "source": [
    "for line in b:\n",
    "    print(line)\n",
    "\n",
    "very\n",
    "veryvery\n",
    "veryveryvery\n",
    "veryveryveryvery\n",
    "veryveryveryveryvery\n",
    "veryveryveryveryveryvery\n",
    "veryveryveryveryvery\n",
    "veryveryveryvery\n",
    "veryveryvery\n",
    "veryvery\n",
    "very"
   ]
  },
  {
   "cell_type": "code",
   "execution_count": 6,
   "metadata": {},
   "outputs": [
    {
     "name": "stdout",
     "output_type": "stream",
     "text": [
      "you`re right\n"
     ]
    },
    {
     "ename": "KeyboardInterrupt",
     "evalue": "Interrupted by user",
     "output_type": "error",
     "traceback": [
      "\u001b[1;31m---------------------------------------------------------------------------\u001b[0m",
      "\u001b[1;31mKeyboardInterrupt\u001b[0m                         Traceback (most recent call last)",
      "\u001b[1;32m<ipython-input-6-deac89821089>\u001b[0m in \u001b[0;36m<module>\u001b[1;34m\u001b[0m\n\u001b[0;32m     17\u001b[0m \u001b[1;33m\u001b[0m\u001b[0m\n\u001b[0;32m     18\u001b[0m \u001b[1;33m\u001b[0m\u001b[0m\n\u001b[1;32m---> 19\u001b[1;33m \u001b[0mnumber_1\u001b[0m \u001b[1;33m=\u001b[0m \u001b[0mint\u001b[0m\u001b[1;33m(\u001b[0m\u001b[0minput\u001b[0m\u001b[1;33m(\u001b[0m\u001b[1;34m'Enter your first number: '\u001b[0m\u001b[1;33m)\u001b[0m\u001b[1;33m)\u001b[0m\u001b[1;33m\u001b[0m\u001b[1;33m\u001b[0m\u001b[0m\n\u001b[0m\u001b[0;32m     20\u001b[0m \u001b[0mnumber_2\u001b[0m \u001b[1;33m=\u001b[0m \u001b[0minput\u001b[0m\u001b[1;33m(\u001b[0m\u001b[1;34m'Enter your second number: '\u001b[0m\u001b[1;33m)\u001b[0m\u001b[1;33m\u001b[0m\u001b[1;33m\u001b[0m\u001b[0m\n\u001b[0;32m     21\u001b[0m \u001b[1;33m\u001b[0m\u001b[0m\n",
      "\u001b[1;32m~\\anaconda3\\lib\\site-packages\\ipykernel\\kernelbase.py\u001b[0m in \u001b[0;36mraw_input\u001b[1;34m(self, prompt)\u001b[0m\n\u001b[0;32m    858\u001b[0m                 \u001b[1;34m\"raw_input was called, but this frontend does not support input requests.\"\u001b[0m\u001b[1;33m\u001b[0m\u001b[1;33m\u001b[0m\u001b[0m\n\u001b[0;32m    859\u001b[0m             )\n\u001b[1;32m--> 860\u001b[1;33m         return self._input_request(str(prompt),\n\u001b[0m\u001b[0;32m    861\u001b[0m             \u001b[0mself\u001b[0m\u001b[1;33m.\u001b[0m\u001b[0m_parent_ident\u001b[0m\u001b[1;33m,\u001b[0m\u001b[1;33m\u001b[0m\u001b[1;33m\u001b[0m\u001b[0m\n\u001b[0;32m    862\u001b[0m             \u001b[0mself\u001b[0m\u001b[1;33m.\u001b[0m\u001b[0m_parent_header\u001b[0m\u001b[1;33m,\u001b[0m\u001b[1;33m\u001b[0m\u001b[1;33m\u001b[0m\u001b[0m\n",
      "\u001b[1;32m~\\anaconda3\\lib\\site-packages\\ipykernel\\kernelbase.py\u001b[0m in \u001b[0;36m_input_request\u001b[1;34m(self, prompt, ident, parent, password)\u001b[0m\n\u001b[0;32m    902\u001b[0m             \u001b[1;32mexcept\u001b[0m \u001b[0mKeyboardInterrupt\u001b[0m\u001b[1;33m:\u001b[0m\u001b[1;33m\u001b[0m\u001b[1;33m\u001b[0m\u001b[0m\n\u001b[0;32m    903\u001b[0m                 \u001b[1;31m# re-raise KeyboardInterrupt, to truncate traceback\u001b[0m\u001b[1;33m\u001b[0m\u001b[1;33m\u001b[0m\u001b[1;33m\u001b[0m\u001b[0m\n\u001b[1;32m--> 904\u001b[1;33m                 \u001b[1;32mraise\u001b[0m \u001b[0mKeyboardInterrupt\u001b[0m\u001b[1;33m(\u001b[0m\u001b[1;34m\"Interrupted by user\"\u001b[0m\u001b[1;33m)\u001b[0m \u001b[1;32mfrom\u001b[0m \u001b[1;32mNone\u001b[0m\u001b[1;33m\u001b[0m\u001b[1;33m\u001b[0m\u001b[0m\n\u001b[0m\u001b[0;32m    905\u001b[0m             \u001b[1;32mexcept\u001b[0m \u001b[0mException\u001b[0m \u001b[1;32mas\u001b[0m \u001b[0me\u001b[0m\u001b[1;33m:\u001b[0m\u001b[1;33m\u001b[0m\u001b[1;33m\u001b[0m\u001b[0m\n\u001b[0;32m    906\u001b[0m                 \u001b[0mself\u001b[0m\u001b[1;33m.\u001b[0m\u001b[0mlog\u001b[0m\u001b[1;33m.\u001b[0m\u001b[0mwarning\u001b[0m\u001b[1;33m(\u001b[0m\u001b[1;34m\"Invalid Message:\"\u001b[0m\u001b[1;33m,\u001b[0m \u001b[0mexc_info\u001b[0m\u001b[1;33m=\u001b[0m\u001b[1;32mTrue\u001b[0m\u001b[1;33m)\u001b[0m\u001b[1;33m\u001b[0m\u001b[1;33m\u001b[0m\u001b[0m\n",
      "\u001b[1;31mKeyboardInterrupt\u001b[0m: Interrupted by user"
     ]
    }
   ],
   "source": [
    "class human():\n",
    "\n",
    "    def __init__(self,name,age):\n",
    "        self.name = name\n",
    "        self.age = age\n",
    "        print ('you`re right')\n",
    "\n",
    "zhang = human('zhang','40')\n",
    "\n",
    "def object(name,race,age):\n",
    "    if name == 'zhang' and race == 'chinese' and age == 30:\n",
    "        print ('True')\n",
    "    \n",
    "    else:\n",
    "        print ('False')\n",
    "        return\n",
    "\n",
    "\n",
    "number_1 = int(input('Enter your first number: '))\n",
    "number_2 = input('Enter your second number: ')\n",
    "\n",
    "operation = input(''' type in asdas:\n",
    " + for add\n",
    "  - for sub ''')"
   ]
  },
  {
   "cell_type": "code",
   "execution_count": 9,
   "metadata": {},
   "outputs": [],
   "source": [
    "class human():\n",
    "\n",
    "    def __init__(self,name,age):\n",
    "        self.name = name\n",
    "        self.age = age\n",
    "        print ('you`re right')"
   ]
  },
  {
   "cell_type": "code",
   "execution_count": 11,
   "metadata": {},
   "outputs": [
    {
     "name": "stdout",
     "output_type": "stream",
     "text": [
      "you`re right\n"
     ]
    },
    {
     "data": {
      "text/plain": [
       "<__main__.human at 0x250c61f23d0>"
      ]
     },
     "execution_count": 11,
     "metadata": {},
     "output_type": "execute_result"
    }
   ],
   "source": [
    "human(1,2)"
   ]
  },
  {
   "cell_type": "code",
   "execution_count": null,
   "metadata": {},
   "outputs": [],
   "source": [
    "def calculator():\n",
    "    ope = input('''which operation you wish to do + para ad - para sub * para mult / para div''')\n",
    "    \n",
    "    n_1 = int(input('n1'))\n",
    "    n_2 = int(input('n2'))\n",
    "    \n",
    "    if ope == '+':\n",
    "        print('{} + {} = '.format(n_1,n_2))\n",
    "        print(n_1 + n_2)\n",
    "        \n",
    "    elif ope == '-':\n",
    "        print('{} + {} = '.format(n_1,n_2))\n",
    "        print(n_1 + n_2)\n",
    "\n",
    "    elif ope == '*':\n",
    "        print('{} + {} = '.format(n_1,n_2))\n",
    "        print(n_1 + n_2)\n",
    "\n",
    "    elif ope == '/':\n",
    "        print('{} + {} = '.format(n_1,n_2))\n",
    "        print(n_1 + n_2)\n",
    "    \n",
    "    else:\n",
    "        print('okay')\n",
    "\n",
    "        return\n",
    "\n",
    "calculator()"
   ]
  },
  {
   "cell_type": "code",
   "execution_count": null,
   "metadata": {},
   "outputs": [],
   "source": [
    "dog = 'smart'\n",
    "horse = 'dumb'\n",
    "dog = 'small'\n",
    "horse = 'big'\n",
    "\n",
    "if dog == 'smart':\n",
    "    print('you`re right')\n",
    "elif dog == 'small':\n",
    "    print('right')\n",
    "\n",
    "\n",
    "# In[4]:\n",
    "\n",
    "\n",
    "if dog == 'smart':\n",
    "    print('you`re right')\n",
    "elif dog == 'small':\n",
    "    print('right')\n",
    "\n",
    "\n",
    "# In[10]:\n",
    "\n",
    "\n",
    "eat = 'eggplant'\n",
    "\n",
    "if eat == 'pizza':\n",
    "    print('delicious')\n",
    "elif eat == 'pasta':\n",
    "    print('okay, i may eat')\n",
    "else:\n",
    "    print('no, i dont like it')\n",
    "\n",
    "\n",
    "# In[12]:\n",
    "\n",
    "\n",
    "mylist = [1,2,3,4,5,6,7,8,9,10]\n",
    "\n",
    "\n",
    "# In[22]:\n",
    "\n",
    "\n",
    "mylist = [1,2,3,4,5,6,7,8,9,10]\n",
    "\n",
    "for num in mylist:\n",
    "    if num % 2 == 0:\n",
    "        print(num)\n",
    "    else:\n",
    "        print(f'Odd number:{num}')\n",
    "\n",
    "\n",
    "# In[ ]:"
   ]
  },
  {
   "cell_type": "code",
   "execution_count": 7,
   "metadata": {},
   "outputs": [
    {
     "ename": "IndentationError",
     "evalue": "unexpected indent (<ipython-input-7-f259ef73a848>, line 8)",
     "output_type": "error",
     "traceback": [
      "\u001b[1;36m  File \u001b[1;32m\"<ipython-input-7-f259ef73a848>\"\u001b[1;36m, line \u001b[1;32m8\u001b[0m\n\u001b[1;33m    if country == 'Brazil'\u001b[0m\n\u001b[1;37m    ^\u001b[0m\n\u001b[1;31mIndentationError\u001b[0m\u001b[1;31m:\u001b[0m unexpected indent\n"
     ]
    }
   ],
   "source": [
    "class human_being():\n",
    "    def __init__(self):\n",
    "        race = input('Tell me where you race: ')\n",
    "        country = input()\n",
    "        self.race = race('Tell me where are you from: ')\n",
    "        self.country = country\n",
    "\n",
    "            if country == 'Brazil'\n",
    "                print('Brazillian')\n",
    "\n",
    "            elif country == 'China'\n",
    "                print('Chinese')\n",
    "    \n",
    "    def features(self):\n",
    "        self.skin = skin\n",
    "    \n",
    "    def weight(self):\n",
    "        self.fat = fat\n",
    "        self.skinny = skinny\n",
    "\n",
    "human_being()"
   ]
  },
  {
   "cell_type": "code",
   "execution_count": 8,
   "metadata": {},
   "outputs": [
    {
     "ename": "NameError",
     "evalue": "name 'human_being' is not defined",
     "output_type": "error",
     "traceback": [
      "\u001b[1;31m---------------------------------------------------------------------------\u001b[0m",
      "\u001b[1;31mNameError\u001b[0m                                 Traceback (most recent call last)",
      "\u001b[1;32m<ipython-input-8-287f0bf5dd1f>\u001b[0m in \u001b[0;36m<module>\u001b[1;34m\u001b[0m\n\u001b[1;32m----> 1\u001b[1;33m \u001b[0mhuman_being\u001b[0m\u001b[1;33m(\u001b[0m\u001b[1;33m)\u001b[0m\u001b[1;33m\u001b[0m\u001b[1;33m\u001b[0m\u001b[0m\n\u001b[0m",
      "\u001b[1;31mNameError\u001b[0m: name 'human_being' is not defined"
     ]
    }
   ],
   "source": [
    "human_being()"
   ]
  },
  {
   "cell_type": "code",
   "execution_count": 12,
   "metadata": {},
   "outputs": [],
   "source": [
    "def pig_latin(word):\n",
    "    \n",
    "    first_letter = word[0]\n",
    "    \n",
    "    if first_letter in 'aeiou':\n",
    "        pig_word = word + 'ay'\n",
    "    else:\n",
    "        pig_word = word[1:] + first_letter + 'ay'\n",
    "        \n",
    "        return pig_word"
   ]
  },
  {
   "cell_type": "code",
   "execution_count": 13,
   "metadata": {},
   "outputs": [],
   "source": [
    "pig_latin('apple')"
   ]
  },
  {
   "cell_type": "code",
   "execution_count": 14,
   "metadata": {},
   "outputs": [
    {
     "data": {
      "text/plain": [
       "'hngzay'"
      ]
     },
     "execution_count": 14,
     "metadata": {},
     "output_type": "execute_result"
    }
   ],
   "source": [
    "pig_latin('zhng')"
   ]
  },
  {
   "cell_type": "code",
   "execution_count": 15,
   "metadata": {},
   "outputs": [],
   "source": [
    "def dog_check(mystring):\n",
    "    if 'dog' in mystring.lower():\n",
    "        return True\n",
    "    else:\n",
    "        return False"
   ]
  },
  {
   "cell_type": "code",
   "execution_count": 17,
   "metadata": {},
   "outputs": [
    {
     "data": {
      "text/plain": [
       "True"
      ]
     },
     "execution_count": 17,
     "metadata": {},
     "output_type": "execute_result"
    }
   ],
   "source": [
    "dog_check('dog')"
   ]
  },
  {
   "cell_type": "code",
   "execution_count": 18,
   "metadata": {},
   "outputs": [],
   "source": [
    "def x(name1, name2):\n",
    "    x(name1 = 'zhang', name2 = 'yuan')\n",
    "    print ('zhang ', name1)\n",
    "    print ('yuan', name2)\n",
    "    return"
   ]
  },
  {
   "cell_type": "code",
   "execution_count": 20,
   "metadata": {},
   "outputs": [],
   "source": [
    "def hello(meu_nome,idade):\n",
    "    print('Ola', meu_nome ,idade)"
   ]
  },
  {
   "cell_type": "code",
   "execution_count": 21,
   "metadata": {},
   "outputs": [
    {
     "name": "stdout",
     "output_type": "stream",
     "text": [
      "Ola zhang 20\n"
     ]
    }
   ],
   "source": [
    "hello('zhang', 20)"
   ]
  },
  {
   "cell_type": "code",
   "execution_count": null,
   "metadata": {},
   "outputs": [],
   "source": []
  }
 ],
 "metadata": {
  "kernelspec": {
   "display_name": "Python 3",
   "language": "python",
   "name": "python3"
  },
  "language_info": {
   "codemirror_mode": {
    "name": "ipython",
    "version": 3
   },
   "file_extension": ".py",
   "mimetype": "text/x-python",
   "name": "python",
   "nbconvert_exporter": "python",
   "pygments_lexer": "ipython3",
   "version": "3.8.3"
  }
 },
 "nbformat": 4,
 "nbformat_minor": 4
}
