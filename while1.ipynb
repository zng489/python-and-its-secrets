{
 "cells": [
  {
   "cell_type": "code",
   "execution_count": 16,
   "metadata": {},
   "outputs": [],
   "source": [
    "def object(name,race,age):\n",
    "    if name == 'zhang' and race == 'chinese' and age == 30:\n",
    "        print ('True')\n",
    "    \n",
    "    else:\n",
    "        print ('False')\n",
    "        return"
   ]
  },
  {
   "cell_type": "code",
   "execution_count": 18,
   "metadata": {},
   "outputs": [
    {
     "name": "stdout",
     "output_type": "stream",
     "text": [
      "True\n"
     ]
    }
   ],
   "source": [
    "object('zhang','chinese',30)"
   ]
  },
  {
   "cell_type": "code",
   "execution_count": 28,
   "metadata": {},
   "outputs": [],
   "source": [
    "def object(name,race,age,weight,height):\n",
    "    if name == 'zhang' and race == 'chinese' and age == 30 and weight == 85 and height == float(1.78):\n",
    "        print ('True')\n",
    "    \n",
    "    else:\n",
    "        print ('False')\n",
    "        return"
   ]
  },
  {
   "cell_type": "code",
   "execution_count": 29,
   "metadata": {},
   "outputs": [
    {
     "name": "stdout",
     "output_type": "stream",
     "text": [
      "True\n"
     ]
    }
   ],
   "source": [
    "object('zhang','chinese',30,85,1.78)"
   ]
  },
  {
   "cell_type": "code",
   "execution_count": 30,
   "metadata": {},
   "outputs": [],
   "source": [
    "#########################################################################"
   ]
  },
  {
   "cell_type": "code",
   "execution_count": 70,
   "metadata": {},
   "outputs": [],
   "source": [
    "def object(name1,race,age,weight,height):\n",
    "    \n",
    "    if name1 == 'zhang' and race == 'chinese' and age == 30 and weight == 85 and height == float(1.78):\n",
    "        print ('True')\n",
    "        \n",
    "    if race == 'chinese':\n",
    "        print ('You are right')\n",
    "        \n",
    "    if age == 30:\n",
    "        print ('You are okay')\n",
    "        \n",
    "    if weight == 85:\n",
    "        print ('Yes')\n",
    "        \n",
    "    if height == float(1.78):\n",
    "        print ('Everything all right')\n",
    "    \n",
    "    else:\n",
    "        print ('False')\n",
    "        return"
   ]
  },
  {
   "cell_type": "code",
   "execution_count": 71,
   "metadata": {},
   "outputs": [
    {
     "name": "stdout",
     "output_type": "stream",
     "text": [
      "True\n",
      "You are right\n",
      "You are okay\n",
      "Yes\n",
      "Everything all right\n"
     ]
    }
   ],
   "source": [
    "object('zhang','chinese',30,85,1.78)"
   ]
  },
  {
   "cell_type": "code",
   "execution_count": 38,
   "metadata": {},
   "outputs": [
    {
     "name": "stdout",
     "output_type": "stream",
     "text": [
      "You are right\n",
      "You are okay\n",
      "Yes\n",
      "False\n"
     ]
    }
   ],
   "source": [
    "object('zhang','chinese',30,85,1.70)"
   ]
  },
  {
   "cell_type": "code",
   "execution_count": 41,
   "metadata": {},
   "outputs": [],
   "source": [
    "def object(height):\n",
    "    \n",
    "    if height == float(1.78):\n",
    "        print ('True')"
   ]
  },
  {
   "cell_type": "code",
   "execution_count": 42,
   "metadata": {},
   "outputs": [
    {
     "name": "stdout",
     "output_type": "stream",
     "text": [
      "True\n"
     ]
    }
   ],
   "source": [
    "object(float(1.78))"
   ]
  },
  {
   "cell_type": "code",
   "execution_count": 43,
   "metadata": {},
   "outputs": [],
   "source": [
    "def object(height):\n",
    "    \n",
    "    if height == float(1.78):\n",
    "        return True"
   ]
  },
  {
   "cell_type": "code",
   "execution_count": 44,
   "metadata": {},
   "outputs": [
    {
     "data": {
      "text/plain": [
       "True"
      ]
     },
     "execution_count": 44,
     "metadata": {},
     "output_type": "execute_result"
    }
   ],
   "source": [
    "object(float(1.78))"
   ]
  },
  {
   "cell_type": "code",
   "execution_count": 45,
   "metadata": {},
   "outputs": [],
   "source": [
    "def object(height):\n",
    "    \n",
    "    if height == float(1.78):\n",
    "        print ('True')\n",
    "        return"
   ]
  },
  {
   "cell_type": "code",
   "execution_count": 46,
   "metadata": {},
   "outputs": [
    {
     "name": "stdout",
     "output_type": "stream",
     "text": [
      "True\n"
     ]
    }
   ],
   "source": [
    "object(float(1.78))"
   ]
  },
  {
   "cell_type": "code",
   "execution_count": 66,
   "metadata": {},
   "outputs": [],
   "source": [
    "def tempo_estudo(horas,dedicacao):\n",
    "    \n",
    "    minut = float(horas)\n",
    "    x = float(dedicacao)\n",
    "    \n",
    "    if horas + dedicacao >= 10:\n",
    "        return 'You are in the way'\n",
    "    \n",
    "    if horas + dedicacao == 5:\n",
    "        return 'You are average person'\n",
    "    \n",
    "    else:\n",
    "        return \"you are fucked it\""
   ]
  },
  {
   "cell_type": "code",
   "execution_count": 67,
   "metadata": {},
   "outputs": [
    {
     "data": {
      "text/plain": [
       "'You are in the way'"
      ]
     },
     "execution_count": 67,
     "metadata": {},
     "output_type": "execute_result"
    }
   ],
   "source": [
    "tempo_estudo(5.0,5.5)"
   ]
  },
  {
   "cell_type": "code",
   "execution_count": 63,
   "metadata": {},
   "outputs": [],
   "source": [
    "def tempo_estudo(horas,dedicacao):\n",
    "    \n",
    "    if horas + dedicacao >= 10:\n",
    "        print ('You are in the way')\n",
    "    \n",
    "    if horas + dedicacao == 5:\n",
    "        return 'You are average person'\n",
    "    \n",
    "    else:\n",
    "        return \"you are fucked it\""
   ]
  },
  {
   "cell_type": "code",
   "execution_count": 64,
   "metadata": {},
   "outputs": [
    {
     "name": "stdout",
     "output_type": "stream",
     "text": [
      "You are in the way\n"
     ]
    },
    {
     "data": {
      "text/plain": [
       "'you are fucked it'"
      ]
     },
     "execution_count": 64,
     "metadata": {},
     "output_type": "execute_result"
    }
   ],
   "source": [
    "tempo_estudo(5.0,5.5)"
   ]
  },
  {
   "cell_type": "code",
   "execution_count": 69,
   "metadata": {},
   "outputs": [],
   "source": [
    "def calcular_pagamento(qtd_horas, valor_hora):\n",
    "    \n",
    "  hora = float(qtd_horas)\n",
    "  taxa = float(valor_hora)\n",
    "  if horas <= 40:\n",
    "    salario=horas*taxa\n",
    "  else:\n",
    "    h_excd = horas - 40\n",
    "    salario = 40*taxa+(h_excd*(1.5*taxa))\n",
    "  return salario"
   ]
  },
  {
   "cell_type": "code",
   "execution_count": null,
   "metadata": {},
   "outputs": [],
   "source": [
    "#######################################################################"
   ]
  },
  {
   "cell_type": "code",
   "execution_count": 87,
   "metadata": {},
   "outputs": [],
   "source": [
    "class Chinese():\n",
    "    \n",
    "    def __init__(self,name,age,weight,height):\n",
    "        self.name = name\n",
    "        self.age = age\n",
    "        self.weight = weight\n",
    "        self.height = height\n",
    "        print ('It`s done')\n",
    "        \n",
    "    def speech(self,disc1,disc2):\n",
    "        self.disc1 = disc1\n",
    "        self.disc2 = disc2\n",
    "        return 'Wagner vai ser pai'\n",
    "    \n",
    "    \n",
    "    def action(self,act1,act2):\n",
    "        self.act1 = act1\n",
    "        self.act2 = act2\n",
    "        return"
   ]
  },
  {
   "cell_type": "code",
   "execution_count": 88,
   "metadata": {},
   "outputs": [
    {
     "name": "stdout",
     "output_type": "stream",
     "text": [
      "It`s done\n"
     ]
    },
    {
     "data": {
      "text/plain": [
       "<__main__.Chinese at 0x25e1282d4a8>"
      ]
     },
     "execution_count": 88,
     "metadata": {},
     "output_type": "execute_result"
    }
   ],
   "source": [
    "Chinese('zhang',30,83,178)"
   ]
  },
  {
   "cell_type": "code",
   "execution_count": 90,
   "metadata": {},
   "outputs": [],
   "source": [
    "class Chinese():\n",
    "    \n",
    "    def __init__(self):\n",
    "        print ('It`s done')\n",
    "        \n",
    "    def speak(self):\n",
    "        pass"
   ]
  },
  {
   "cell_type": "code",
   "execution_count": 91,
   "metadata": {},
   "outputs": [
    {
     "name": "stdout",
     "output_type": "stream",
     "text": [
      "It`s done\n"
     ]
    }
   ],
   "source": [
    "zhang = Chinese()"
   ]
  },
  {
   "cell_type": "code",
   "execution_count": 105,
   "metadata": {},
   "outputs": [],
   "source": [
    "class chinese():\n",
    "    \n",
    "    def __init__(self,name,age):\n",
    "        self.name = name\n",
    "        self.age = age\n",
    "        print ('It`s done')\n",
    "        \n",
    "    def speak(self):\n",
    "        print ('Well done!', self.name)"
   ]
  },
  {
   "cell_type": "code",
   "execution_count": 107,
   "metadata": {},
   "outputs": [
    {
     "name": "stdout",
     "output_type": "stream",
     "text": [
      "It`s done\n"
     ]
    }
   ],
   "source": [
    "china = chinese('zhang', 30)"
   ]
  },
  {
   "cell_type": "code",
   "execution_count": 108,
   "metadata": {},
   "outputs": [
    {
     "name": "stdout",
     "output_type": "stream",
     "text": [
      "Well done! zhang\n"
     ]
    }
   ],
   "source": [
    "china.speak()"
   ]
  },
  {
   "cell_type": "code",
   "execution_count": 114,
   "metadata": {},
   "outputs": [],
   "source": [
    "class china():\n",
    "    \n",
    "    def __init__(self,name,age):\n",
    "        self.name = name\n",
    "        self.age = age\n",
    "        print ('It`s done')\n",
    "        \n",
    "    def speak(self):\n",
    "        print ('Well done! My name is', self.name, 'and I am', self.age)\n",
    "        \n",
    "class chinese(china):\n",
    "    def __init__(self,name,age):\n",
    "        self.name = name\n",
    "        self.age =  age\n",
    "        self.type = 'human'\n",
    "        print ('it`s okay')"
   ]
  },
  {
   "cell_type": "code",
   "execution_count": 115,
   "metadata": {},
   "outputs": [
    {
     "name": "stdout",
     "output_type": "stream",
     "text": [
      "it`s okay\n"
     ]
    }
   ],
   "source": [
    "zhang = chinese('zhang', 30)"
   ]
  },
  {
   "cell_type": "code",
   "execution_count": 118,
   "metadata": {},
   "outputs": [
    {
     "name": "stdout",
     "output_type": "stream",
     "text": [
      "It`s done\n"
     ]
    }
   ],
   "source": [
    "zhang = china('zhang', 30)"
   ]
  },
  {
   "cell_type": "code",
   "execution_count": 119,
   "metadata": {},
   "outputs": [
    {
     "name": "stdout",
     "output_type": "stream",
     "text": [
      "Well done! My name is zhang and I am 30\n"
     ]
    }
   ],
   "source": [
    "zhang.speak()"
   ]
  },
  {
   "cell_type": "code",
   "execution_count": 170,
   "metadata": {},
   "outputs": [],
   "source": [
    "class carro():\n",
    "    def __init__(self,price,color):\n",
    "        self.price = price\n",
    "        self.color = color\n",
    "        self.gas = 0\n",
    "        print ('carro comprado')\n",
    "        \n",
    "    def cheio(self):\n",
    "        self.gas = 100\n",
    "        print ('carro cheio')\n",
    "        \n",
    "    def vazio(self):\n",
    "        self.gas = 0\n",
    "        print ('carro vazio')\n",
    "        \n",
    "    def deixado(self):\n",
    "        return self.gas\n",
    "    \n",
    "class truck(carro):\n",
    "    def __init__ (self,price,color,tires):\n",
    "        super().__init__(price,color)\n",
    "        self.tires = tires\n",
    "        print ('Truck')\n",
    "        \n",
    "    def beep(self):\n",
    "        print ('Beep')"
   ]
  },
  {
   "cell_type": "code",
   "execution_count": 171,
   "metadata": {},
   "outputs": [
    {
     "name": "stdout",
     "output_type": "stream",
     "text": [
      "carro comprado\n"
     ]
    }
   ],
   "source": [
    "zhang = carro(100,100)"
   ]
  },
  {
   "cell_type": "code",
   "execution_count": 172,
   "metadata": {},
   "outputs": [
    {
     "name": "stdout",
     "output_type": "stream",
     "text": [
      "carro cheio\n"
     ]
    }
   ],
   "source": [
    "zhang.cheio()"
   ]
  },
  {
   "cell_type": "code",
   "execution_count": 173,
   "metadata": {},
   "outputs": [
    {
     "name": "stdout",
     "output_type": "stream",
     "text": [
      "carro comprado\n",
      "Truck\n"
     ]
    }
   ],
   "source": [
    "zhang = truck(1000,2,3)"
   ]
  },
  {
   "cell_type": "code",
   "execution_count": 150,
   "metadata": {},
   "outputs": [],
   "source": [
    "class parent:\n",
    "    def __init__(self,name):\n",
    "        print('parent')\n",
    "        \n",
    "class child(parent):\n",
    "    def __init__(self):\n",
    "        print('child')\n",
    "        super().__init__('zhang')"
   ]
  },
  {
   "cell_type": "code",
   "execution_count": 151,
   "metadata": {},
   "outputs": [
    {
     "name": "stdout",
     "output_type": "stream",
     "text": [
      "child\n",
      "parent\n"
     ]
    }
   ],
   "source": [
    "child = child()"
   ]
  },
  {
   "cell_type": "code",
   "execution_count": 175,
   "metadata": {},
   "outputs": [],
   "source": [
    "class point():\n",
    "    def __init__(self,x=0,y=0):\n",
    "        self.x = x\n",
    "        self.y = y\n",
    "        self.coords = (self.x, self.y)\n",
    "        \n",
    "    def move(self,x,y):\n",
    "        self.x +- x\n",
    "        self.y +- y"
   ]
  },
  {
   "cell_type": "code",
   "execution_count": 176,
   "metadata": {},
   "outputs": [],
   "source": [
    "point = point(2,3)"
   ]
  },
  {
   "cell_type": "code",
   "execution_count": 193,
   "metadata": {},
   "outputs": [],
   "source": [
    "class myclass():\n",
    "    def __init__(self):\n",
    "        self.x = x\n",
    "        \n",
    "    #@staticmethod\n",
    "    @classmethod #(at least one variable)\n",
    "    def staticmethod(variable):\n",
    "        print('@staticmethod = no self')\n",
    "        return"
   ]
  },
  {
   "cell_type": "code",
   "execution_count": 194,
   "metadata": {},
   "outputs": [],
   "source": [
    "zhang = myclass"
   ]
  },
  {
   "cell_type": "code",
   "execution_count": 195,
   "metadata": {},
   "outputs": [
    {
     "name": "stdout",
     "output_type": "stream",
     "text": [
      "@staticmethod = no self\n"
     ]
    }
   ],
   "source": [
    "zhang.staticmethod()"
   ]
  },
  {
   "cell_type": "code",
   "execution_count": null,
   "metadata": {},
   "outputs": [],
   "source": []
  }
 ],
 "metadata": {
  "kernelspec": {
   "display_name": "Python 3",
   "language": "python",
   "name": "python3"
  },
  "language_info": {
   "codemirror_mode": {
    "name": "ipython",
    "version": 3
   },
   "file_extension": ".py",
   "mimetype": "text/x-python",
   "name": "python",
   "nbconvert_exporter": "python",
   "pygments_lexer": "ipython3",
   "version": "3.7.1"
  }
 },
 "nbformat": 4,
 "nbformat_minor": 2
}
