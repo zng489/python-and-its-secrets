{
 "cells": [
  {
   "cell_type": "markdown",
   "metadata": {},
   "source": [
    "# Introduction to DataCamp Projects"
   ]
  },
  {
   "cell_type": "code",
   "execution_count": null,
   "metadata": {},
   "outputs": [],
   "source": [
    "# This is a code cell without any tag. You can put convenience code here,\n",
    "# but it won't be included in any way in the final project.\n",
    "# For example, to be able to run tests locally in the notebook\n",
    "# you need to install the following:\n",
    "# install.packages(\"devtools\")\n",
    "# install.packages(\"testthat\")\n",
    "# devtools::install_github('datacamp/IRkernel.testthat')\n",
    "\n",
    "# This allows .... to be used as placeholder value in the sample code cells\n",
    ".... <- NULL "
   ]
  },
  {
   "cell_type": "markdown",
   "metadata": {},
   "source": [
    "Welcome to the official authoring notebook for your DataCamp project! This notebook, named `project.ipynb`, contains a variety of tagged cells. Tags are in the top left corner of cells. Here's an example of a tag:\n",
    "\n",
    "![tagged_cell_img](https://i.imgur.com/H2TB22Y.png)\n",
    "\n",
    "These tagged cells are processed by software written by our talented DataCamp engineers and a [DataCamp project](https://www.datacamp.com/projects) is the product.\n",
    "\n",
    "<img src=\"https://i.imgur.com/7mqMP5E.jpg\" alt=\"DataCamp project interface\" width=\"600px\"/>\n",
    "\n",
    "Before you start working on this notebook, please read the `project.ipynb` notebook format in our [documentation](https://instructor-support.datacamp.com/projects/datacamp-project-jupyter-notebook-format). Each type of tagged cell is described there.\n",
    "\n",
    "When you first open this notebook, you will find a template for each of the tagged cells for all tasks in your project. Please abide by the content rules there to ensure students have a consistent and smooth learning experience. **Yes, it is hard to stay within the character count limits, but the importance of them for student satisfaction and completion rates can't be emphasized enough.** The full set of [style guidelines](https://instructor-support.datacamp.com/projects/style-guidelines) will be enforced so please stick to them from the beginning.\n",
    "\n",
    "Also, please do not leave any of the cells below blank as blank cells break the project build and prevent the project from appearing on datacamp.com.\n",
    "\n",
    "*Again, this cell won't be included in the live version of the project because it has no tag.*"
   ]
  },
  {
   "cell_type": "markdown",
   "metadata": {
    "tags": [
     "type:NotebookTask"
    ]
   },
   "source": [
    "## 1. This is a Jupyter notebook!"
   ]
  },
  {
   "cell_type": "markdown",
   "metadata": {
    "tags": [
     "@context"
    ]
   },
   "source": [
    "A *Jupyter notebook* is a document that contains text cells (what you're reading right now) and code cells. What is special with a notebook is that it's _interactive_: You can change or add code cells, and then _run_ a cell by first selecting it and then clicking the _run cell_ button above ( **▶|** Run ) or hitting `ctrl + enter`. \n",
    "\n",
    "![](https://s3.amazonaws.com/assets.datacamp.com/production/project_33/datasets/run_code_cell_image.png)\n",
    "\n",
    "The result will be displayed directly in the notebook. You _could_ use a notebook as a simple calculator. For example, it's estimated that on average 256 children were born every minute in 2016. The code cell below calculates how many children were born on average on a day. "
   ]
  },
  {
   "cell_type": "markdown",
   "metadata": {},
   "source": [
    "*Please keep the [soft launch](https://en.wikipedia.org/wiki/Soft_launch) warning and the \"reset the project by clicking the circular arrow\" note in the next `@instructions` cell. The cell you are currently reading has no tag so it won't be included in the project.*"
   ]
  },
  {
   "cell_type": "markdown",
   "metadata": {
    "tags": [
     "@instructions"
    ]
   },
   "source": [
    "#### This is a DataCamp project!\n",
    "\n",
    "Welcome to your first DataCamp project! \n",
    "\n",
    "**Projects** allow you to practice and apply the skills you've learned in the DataCamp courses. In each project you carry out an **end-to-end analysis**, on a **real-world task**, using **real-world** tools and workflows. The exception is _this_ project, which is just an introduction to the DataCamp project interface.\n",
    "\n",
    "On the side, you have a *Jupyter notebook*, a free, open-source web application that is great for interactive data analysis. A DataCamp project consists of a number of _tasks_, and here, you have the task instructions. Your first task is easy:\n",
    "\n",
    "<hr>\n",
    "\n",
    "* Run the code cell below _\"1. This is a Jupyter Notebook!\"_ by clicking the _run cell_ button ( **▶|** Run ) or hitting `Ctrl + Enter`. This will calculate how many children were born per day on average in 2016.\n",
    "* Then, click the **Next Task** button below.\n"
   ]
  },
  {
   "cell_type": "markdown",
   "metadata": {
    "tags": [
     "@hint"
    ]
   },
   "source": [
    "Normally a project task can be tricky, and here you would find a hint that would help you. But in this task, you just need to run the cell."
   ]
  },
  {
   "cell_type": "code",
   "execution_count": null,
   "metadata": {
    "tags": [
     "@sample_code"
    ]
   },
   "outputs": [],
   "source": [
    "# I'm a code cell, click me, then run me!\n",
    "256 * 60 * 24 # Children × minutes × hours"
   ]
  },
  {
   "cell_type": "code",
   "execution_count": null,
   "metadata": {
    "tags": [
     "@solution"
    ]
   },
   "outputs": [],
   "source": [
    "# I'm a code cell, click me, then run me!\n",
    "256 * 60 * 24 # Children × minutes × hours"
   ]
  },
  {
   "cell_type": "code",
   "execution_count": null,
   "metadata": {
    "tags": [
     "@tests"
    ]
   },
   "outputs": [],
   "source": [
    "library(testthat) \n",
    "library(IRkernel.testthat)\n",
    "run_tests({\n",
    "    test_that(\"Nothing to check.\", {\n",
    "        expect_equal(TRUE, TRUE, \n",
    "            info = \"\")\n",
    "    })\n",
    "})"
   ]
  },
  {
   "cell_type": "markdown",
   "metadata": {
    "tags": [
     "type:NotebookTask"
    ]
   },
   "source": [
    "## 2. Put any code in code cells"
   ]
  },
  {
   "cell_type": "markdown",
   "metadata": {
    "tags": [
     "@context"
    ]
   },
   "source": [
    "But a code cell can contain much more than a simple one-liner! This is a notebook running R and you can put _any_ R code in a code cell (but notebooks can run other languages too, like python). Below is a code cell where we define a whole new function (`greet`). To show the output of `greet` we can run it anywhere and the result is always printed out at the end of the code cell. "
   ]
  },
  {
   "cell_type": "markdown",
   "metadata": {
    "tags": [
     "@instructions"
    ]
   },
   "source": [
    "The Jupyter notebook in a DataCamp project will contain an analysis, data exploration, or other *narrative* combining code, data, and text. But, and here is the catch, some of the code is missing, and it's up to you to get it right! Sometimes you will only need to fix small things with the code, but in some projects, you will get to write a whole analysis yourself.\n",
    "\n",
    "However, in this project you won't have to do much — the notebook on the side is almost complete — there are just some minor issues that you need to deal with:\n",
    "\n",
    "<hr>\n",
    "\n",
    "* Replace the arguments to `greet(\"James\", \"Bond\")` with your own name.\n",
    "* Run the code cell. (As this is part of every task we will drop this instruction from now on.)"
   ]
  },
  {
   "cell_type": "markdown",
   "metadata": {
    "tags": [
     "@hint"
    ]
   },
   "source": [
    "Normally a project task can be tricky, and here you would find a hint that would help you. But in this task, you just need to replace `\"James\", \"Bond\"` with your name and run the cell."
   ]
  },
  {
   "cell_type": "code",
   "execution_count": null,
   "metadata": {
    "tags": [
     "@sample_code"
    ]
   },
   "outputs": [],
   "source": [
    "greet <- function(first_name, last_name) {\n",
    "  paste(\"My name is \", last_name, \", \", \n",
    "        first_name, \" \", last_name, \"!\", sep = \"\")\n",
    "}\n",
    "\n",
    "# Replace with your first and last name.\n",
    "# That is, unless your name is already James Bond.\n",
    "greet(\"James\", \"Bond\")"
   ]
  },
  {
   "cell_type": "code",
   "execution_count": null,
   "metadata": {
    "tags": [
     "@solution"
    ]
   },
   "outputs": [],
   "source": [
    "greet <- function(first_name, last_name) {\n",
    "  paste(\"My name is \", last_name, \", \", \n",
    "        first_name, \" \", last_name, \"!\", sep = \"\")\n",
    "}\n",
    "\n",
    "# Replace with your first and last name.\n",
    "# That is, unless your name is already James Bond.\n",
    "greet(\"Sean\", \"Connery\")"
   ]
  },
  {
   "cell_type": "code",
   "execution_count": null,
   "metadata": {
    "tags": [
     "@tests"
    ]
   },
   "outputs": [],
   "source": [
    "run_tests({\n",
    "    test_that(\"Nothing to check.\", {\n",
    "        expect_equal(TRUE, TRUE, \n",
    "            info = \"\")\n",
    "    })\n",
    "})"
   ]
  },
  {
   "cell_type": "markdown",
   "metadata": {
    "tags": [
     "type:NotebookTask"
    ]
   },
   "source": [
    "## 3. Jupyter notebooks ♡ data "
   ]
  },
  {
   "cell_type": "markdown",
   "metadata": {
    "tags": [
     "@context"
    ]
   },
   "source": [
    "We've seen that notebooks can display basic objects such as numbers and strings. But notebooks also support the objects used in data science, which makes them great for interactive data analysis!\n",
    "\n",
    "For example, below we create a data frame by reading in a `csv`-file with the average global temperature for the years 1850 to 2016. If we look at the `head` of this data frame the notebook will render it as a nice-looking table."
   ]
  },
  {
   "cell_type": "markdown",
   "metadata": {
    "tags": [
     "@instructions"
    ]
   },
   "source": [
    "* Read in the dataset `datasets/global_temperature.csv` and take a look at the first couple of rows \n",
    "\n",
    "<hr>\n",
    "\n",
    "The list of instructions for this task are now listed at the top — that's where you'll usually find them in DataCamp projects. Below the list of instructions (that is, **right here**) you will find more information that will help you solve the task. For example:\n",
    "\n",
    "This task requires you to write a single line of R code. It should replace the comment that says `# .... YOUR CODE FOR TASK 3 ....` .\n",
    "\n",
    "If you still feel at a loss as to what to do you can always click the **hint** below."
   ]
  },
  {
   "cell_type": "markdown",
   "metadata": {
    "tags": [
     "@hint"
    ]
   },
   "source": [
    "If `df` is a data frame then the following gives you the first couple of rows:\n",
    "\n",
    "```r\n",
    "head(df)\n",
    "```"
   ]
  },
  {
   "cell_type": "code",
   "execution_count": null,
   "metadata": {
    "tags": [
     "@sample_code"
    ]
   },
   "outputs": [],
   "source": [
    "# Reading in the global temperature data,data\n",
    "global_temp <- read.csv(\"datasets/global_temperature.csv\")\n",
    "\n",
    "# Take a look at the first datapoints\n",
    "# .... YOUR CODE FOR TASK 3 ...."
   ]
  },
  {
   "cell_type": "code",
   "execution_count": null,
   "metadata": {
    "tags": [
     "@solution"
    ]
   },
   "outputs": [],
   "source": [
    "# Reading in the global temperature data,data\n",
    "global_temp <- read.csv(\"datasets/global_temperature.csv\")\n",
    "\n",
    "# Take a look at the first datapoints\n",
    "head(global_temp)"
   ]
  },
  {
   "cell_type": "code",
   "execution_count": null,
   "metadata": {
    "tags": [
     "@tests"
    ]
   },
   "outputs": [],
   "source": [
    "run_tests({\n",
    "    test_that(\"Nothing to check.\", {\n",
    "        expect_equal(TRUE, TRUE, \n",
    "            info = \"\")\n",
    "    })\n",
    "})"
   ]
  },
  {
   "cell_type": "markdown",
   "metadata": {
    "tags": [
     "type:NotebookTask"
    ]
   },
   "source": [
    "## 4. Jupyter notebooks ♡ plots"
   ]
  },
  {
   "cell_type": "markdown",
   "metadata": {
    "tags": [
     "@context"
    ]
   },
   "source": [
    "Tables are nice but — as the saying goes — _\"a plot can show a thousand data points\"_. Notebooks handle plots as well and all plots created in code cells will automatically be displayed inline. \n",
    "\n",
    "Let's take a look at the global temperature for the last 150 years."
   ]
  },
  {
   "cell_type": "markdown",
   "metadata": {
    "tags": [
     "@instructions"
    ]
   },
   "source": [
    "* Add any suitable labels to the x-axis and y-axis of the plot.\n",
    "\n",
    "<hr>\n",
    "\n",
    "The dots `....` in a code cell here means that something is missing and has to be filled in. \n",
    "\n",
    "As projects is a new addition to DataCamp it might also be the case that *we've* missed something. If you get any problems with the interface or notice any bugs, please **Report an Issue** by clicking the link in the top right corner."
   ]
  },
  {
   "cell_type": "markdown",
   "metadata": {
    "tags": [
     "@hint"
    ]
   },
   "source": [
    "Replace `\"....\"` with any suitable labels. For example: `\"Year\"` and `\"Degrees Celsius\"`."
   ]
  },
  {
   "cell_type": "code",
   "execution_count": null,
   "metadata": {
    "tags": [
     "@sample_code"
    ]
   },
   "outputs": [],
   "source": [
    "# Plotting global temperature in degrees celsius by year.\n",
    "plot(global_temp$year, global_temp$degrees_celsius, \n",
    "     type = \"l\", col = \"forestgreen\", \n",
    "     xlab = \"....\", ylab = \"....\")"
   ]
  },
  {
   "cell_type": "code",
   "execution_count": null,
   "metadata": {
    "tags": [
     "@solution"
    ]
   },
   "outputs": [],
   "source": [
    "# Plotting global temperature in degrees celsius by year.\n",
    "plot(global_temp$year, global_temp$degrees_celsius, \n",
    "     type = \"l\", col = \"forestgreen\", \n",
    "     xlab = \"Year\", ylab = \"Degrees Celsius\")"
   ]
  },
  {
   "cell_type": "code",
   "execution_count": null,
   "metadata": {
    "tags": [
     "@tests"
    ]
   },
   "outputs": [],
   "source": [
    "run_tests({\n",
    "    test_that(\"Nothing to check.\", {\n",
    "        expect_equal(TRUE, TRUE, \n",
    "            info = \"\")\n",
    "    })\n",
    "})"
   ]
  },
  {
   "cell_type": "markdown",
   "metadata": {
    "tags": [
     "type:NotebookTask"
    ]
   },
   "source": [
    "## 5. Jupyter notebooks ♡ Data Science"
   ]
  },
  {
   "cell_type": "markdown",
   "metadata": {
    "tags": [
     "@context"
    ]
   },
   "source": [
    "Tables and plots are the most common outputs when doing data science and, as these outputs are rendered inline, notebooks works great not only for *doing* a data analysis but also for *showing* a data analysis. A finished notebook contains both the result and the code that produced it. This is useful when you want to share your findings or if you need to update your analysis with new data.\n",
    "\n",
    "Let's add some advanced data analysis to our notebook! For example, this (slightly complicated) code forecasts the global temperature 50 years into the future using an *exponential smoothing state space model* (`ets`).\n",
    "\n",
    "_**Note**: Global temperature is a complex phenomenon and exponential smoothing is likely not a good model here. This is just an example of how easy it is to do (and show) complex forecasting in a Jupyter notebook._"
   ]
  },
  {
   "cell_type": "markdown",
   "metadata": {
    "tags": [
     "@instructions"
    ]
   },
   "source": [
    "* Plot the `temperature_forecast` using the `autoplot` function.\n",
    "\n",
    "<hr>\n",
    "\n",
    "Wait! Before you complete this task try to *check* your project by clicking the **Check Project** button. This will go through all the tasks and check which are complete. For a correct task, the task circle will turn green and when something needs to be fixed the task circle will turn orange. You can then get more information about what needs to be done at the bottom of the orange tasks. You can check a project at any time to see how far you've gotten. "
   ]
  },
  {
   "cell_type": "markdown",
   "metadata": {
    "tags": [
     "@hint"
    ]
   },
   "source": [
    "The autoplot function from `ggplot2` just takes a single object and plots it. If `my_forecast` was an object here is how you would `autoplot` it: \n",
    "\n",
    "```\n",
    "autoplot(my_forecast)\n",
    "```"
   ]
  },
  {
   "cell_type": "code",
   "execution_count": null,
   "metadata": {
    "tags": [
     "@sample_code"
    ]
   },
   "outputs": [],
   "source": [
    "library(forecast)\n",
    "library(ggplot2)\n",
    "\n",
    "# Converting global_temp into a time series (ts) object.\n",
    "global_temp_ts <- ts(global_temp$degrees_celsius, \n",
    "                     start = global_temp$year[1])\n",
    "\n",
    "# Forecasting global temperature 50 years into the future \n",
    "# using an exponential smoothing state space model (ets).\n",
    "temperature_forecast <- forecast( ets(global_temp_ts), h = 50)\n",
    "\n",
    "# Plotting the forecast\n",
    "# .... YOUR CODE FOR TASK 5 ...."
   ]
  },
  {
   "cell_type": "code",
   "execution_count": null,
   "metadata": {
    "tags": [
     "@solution"
    ]
   },
   "outputs": [],
   "source": [
    "library(forecast)\n",
    "library(ggplot2)\n",
    "\n",
    "# Converting global_temp into a time series (ts) object.\n",
    "global_temp_ts <- ts(global_temp$degrees_celsius, \n",
    "                     start = global_temp$year[1])\n",
    "\n",
    "# Forecasting global temperature 50 years into the future \n",
    "# using an exponential smoothing state space model (ets).\n",
    "temperature_forecast <- forecast( ets(global_temp_ts), h = 50)\n",
    "\n",
    "# Plotting the forecast\n",
    "autoplot(temperature_forecast)"
   ]
  },
  {
   "cell_type": "code",
   "execution_count": null,
   "metadata": {
    "tags": [
     "@tests"
    ]
   },
   "outputs": [],
   "source": [
    "run_tests({\n",
    "    test_that(\"The forecast is plotted\", {\n",
    "        expect_true(! is.null(last_plot()), \n",
    "            info = \"The forecast should be plotted using autoplot, like this: autoplot(temperature_forecast)\")\n",
    "    })    \n",
    "})\n"
   ]
  },
  {
   "cell_type": "markdown",
   "metadata": {
    "tags": [
     "type:NotebookTask"
    ]
   },
   "source": [
    "## 6. Goodbye for now! "
   ]
  },
  {
   "cell_type": "markdown",
   "metadata": {
    "tags": [
     "@context"
    ]
   },
   "source": [
    "This was just a short introduction to Jupyter notebooks, an open source technology that is increasingly used for data science and analysis. I hope you enjoyed it! :)"
   ]
  },
  {
   "cell_type": "markdown",
   "metadata": {
    "tags": [
     "@instructions"
    ]
   },
   "source": [
    "And this was just a short introduction to DataCamp projects. I hope you enjoyed it too! You are now ready to get started on your first *real* DataCamp project.\n",
    "\n",
    "<hr>\n",
    "\n",
    "* Are you ready to get started with DataCamp projects, `TRUE` or `FALSE`?\n",
    "* Check your project by clicking the **Check Project** button!\n",
    "\n",
    "<hr>\n",
    "\n",
    "\n",
    "If you want to know more about how Jupyter notebooks work, and maybe even want to install them on your own computer, check out <a href=\"https://www.datacamp.com/community/tutorials/tutorial-jupyter-notebook\" target=\"_blank\">this tutorial on DataCamp community</a>.\n"
   ]
  },
  {
   "cell_type": "markdown",
   "metadata": {
    "tags": [
     "@hint"
    ]
   },
   "source": [
    "Just change the code cell to\n",
    "\n",
    "```\n",
    "I_am_ready <- TRUE\n",
    "```\n",
    "\n",
    "I think you are ready!"
   ]
  },
  {
   "cell_type": "code",
   "execution_count": null,
   "metadata": {
    "tags": [
     "@sample_code"
    ]
   },
   "outputs": [],
   "source": [
    "# Are you ready to get started with  DataCamp projects?\n",
    "I_am_ready <- FALSE\n",
    "\n",
    "# Ps. \n",
    "# Feel free to try out any other stuff in this notebook. \n",
    "# It's all yours!"
   ]
  },
  {
   "cell_type": "code",
   "execution_count": null,
   "metadata": {
    "tags": [
     "@solution"
    ]
   },
   "outputs": [],
   "source": [
    "# Are you ready to get started with projects?\n",
    "I_am_ready <- TRUE\n",
    "\n",
    "# Ps. \n",
    "# Feel free to try out any other stuff in this notebook. \n",
    "# It's all yours!"
   ]
  },
  {
   "cell_type": "code",
   "execution_count": null,
   "metadata": {
    "tags": [
     "@tests"
    ]
   },
   "outputs": [],
   "source": [
    "run_tests({\n",
    "    test_that(\"The student is ready\", {\n",
    "        expect_equal(I_am_ready, TRUE, \n",
    "            info =\"I_am_ready should be set to TRUE, if you are ready to get started with DataCamp projects, that is.\")\n",
    "    })\n",
    "})"
   ]
  },
  {
   "cell_type": "markdown",
   "metadata": {},
   "source": [
    "*The recommended number of tasks in a DataCamp project is between 8 and 10, so feel free to add more if necessary. You can't have more than 12 tasks.*\n",
    "\n",
    "*We need a full suite of tagged cells (i.e. @context, @instructions, etc.) for all tasks with the exact correct tagging, otherwise, the project won't build and won't show up on datacamp.com. To ensure this, copy and paste the the cells above to make more tasks as done in [this screenshare](https://www.useloom.com/share/fe2b7da288454cd18f8a7a606d32eecf).*"
   ]
  }
 ],
 "metadata": {
  "celltoolbar": "Tags",
  "kernelspec": {
   "display_name": "R",
   "language": "R",
   "name": "ir"
  },
  "language_info": {
   "codemirror_mode": "r",
   "file_extension": ".r",
   "mimetype": "text/x-r-source",
   "name": "R",
   "pygments_lexer": "r",
   "version": "3.5.3"
  }
 },
 "nbformat": 4,
 "nbformat_minor": 2
}
